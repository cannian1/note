{
 "cells": [
  {
   "metadata": {},
   "cell_type": "markdown",
   "source": [
    "# ndarray\n",
    "NumPy 中的 ndarray 是一个多维数组对象，它是 NumPy 的核心数据结构。ndarray 可以存储同类型的数据，并且支持多维数组操作。"
   ],
   "id": "7428e90d827e3bdf"
  },
  {
   "metadata": {},
   "cell_type": "markdown",
   "source": [
    "## 1.ndarray 的特性\n",
    "### 多维"
   ],
   "id": "855695ec7c49cc4e"
  },
  {
   "metadata": {
    "ExecuteTime": {
     "end_time": "2025-08-03T09:39:55.029661Z",
     "start_time": "2025-08-03T09:39:55.027135Z"
    }
   },
   "cell_type": "code",
   "source": "import numpy as np",
   "id": "initial_id",
   "outputs": [],
   "execution_count": 133
  },
  {
   "metadata": {
    "ExecuteTime": {
     "end_time": "2025-08-03T09:39:55.040813Z",
     "start_time": "2025-08-03T09:39:55.037525Z"
    }
   },
   "cell_type": "code",
   "source": "",
   "id": "bb672671eedf02f5",
   "outputs": [],
   "execution_count": 133
  },
  {
   "metadata": {
    "ExecuteTime": {
     "end_time": "2025-08-03T09:39:55.069604Z",
     "start_time": "2025-08-03T09:39:55.066075Z"
    }
   },
   "cell_type": "code",
   "source": [
    "arr = np.array(5) # 0 维数组\n",
    "print(arr)\n",
    "print('维度:', arr.ndim) # 数组的维度"
   ],
   "id": "55ba93fce97bd05e",
   "outputs": [
    {
     "name": "stdout",
     "output_type": "stream",
     "text": [
      "5\n",
      "维度: 0\n"
     ]
    }
   ],
   "execution_count": 134
  },
  {
   "metadata": {
    "ExecuteTime": {
     "end_time": "2025-08-03T09:39:55.074316Z",
     "start_time": "2025-08-03T09:39:55.070848Z"
    }
   },
   "cell_type": "code",
   "source": [
    "arr = np.array([1,2,3]) # 1 维数组\n",
    "print(arr)\n",
    "print('维度:', arr.ndim) # 数组的维度"
   ],
   "id": "c878364be07ca4b9",
   "outputs": [
    {
     "name": "stdout",
     "output_type": "stream",
     "text": [
      "[1 2 3]\n",
      "维度: 1\n"
     ]
    }
   ],
   "execution_count": 135
  },
  {
   "metadata": {
    "ExecuteTime": {
     "end_time": "2025-08-03T09:39:55.079040Z",
     "start_time": "2025-08-03T09:39:55.074316Z"
    }
   },
   "cell_type": "code",
   "source": [
    "arr = np.array([[1,2,3],[4,5,6]]) # 2 维数组\n",
    "print(arr)\n",
    "print('维度:', arr.ndim) # 数组的维度"
   ],
   "id": "39e2971e1a956c79",
   "outputs": [
    {
     "name": "stdout",
     "output_type": "stream",
     "text": [
      "[[1 2 3]\n",
      " [4 5 6]]\n",
      "维度: 2\n"
     ]
    }
   ],
   "execution_count": 136
  },
  {
   "metadata": {},
   "cell_type": "markdown",
   "source": "### 同质",
   "id": "314dfdab28f5c358"
  },
  {
   "metadata": {
    "ExecuteTime": {
     "end_time": "2025-08-03T09:39:55.083986Z",
     "start_time": "2025-08-03T09:39:55.080366Z"
    }
   },
   "cell_type": "code",
   "source": [
    "arr = np.array([1,'hello']) # 不同类型的数据会被转化成同一类型\n",
    "print(arr)"
   ],
   "id": "c28ebd70aeddf007",
   "outputs": [
    {
     "name": "stdout",
     "output_type": "stream",
     "text": [
      "['1' 'hello']\n"
     ]
    }
   ],
   "execution_count": 137
  },
  {
   "metadata": {
    "ExecuteTime": {
     "end_time": "2025-08-03T09:39:55.088364Z",
     "start_time": "2025-08-03T09:39:55.083986Z"
    }
   },
   "cell_type": "code",
   "source": [
    "arr = np.array([[1,2,3],[4,5,6]], dtype=np.float32) # 指定数据类型\n",
    "print(arr)\n",
    "print('数据类型:', arr.dtype) # 数组的数据类型被转化成指定类型"
   ],
   "id": "f06330d3aae512d",
   "outputs": [
    {
     "name": "stdout",
     "output_type": "stream",
     "text": [
      "[[1. 2. 3.]\n",
      " [4. 5. 6.]]\n",
      "数据类型: float32\n"
     ]
    }
   ],
   "execution_count": 138
  },
  {
   "metadata": {},
   "cell_type": "markdown",
   "source": "## 2.ndarray 的属性",
   "id": "a01f5b7d459d3b16"
  },
  {
   "metadata": {},
   "cell_type": "markdown",
   "source": [
    "## 属性\n",
    "\n",
    "| 属性名称     | 描述                         | 使用示例         |\n",
    "|----------|----------------------------|--------------|\n",
    "| shape    | 数组的形状：各个维度的尺寸              | arr.shape    |\n",
    "| ndim     | 维度数量                       | arr.ndim     |\n",
    "| size     | 总元素个数                      | arr.size     |\n",
    "| dtype    | 数据类型                       | arr.dtype    |\n",
    "| T        | 转置数组                       | arr.T        |\n",
    "| itemsize | 每个元素的字节大小                  | arr.itemsize |\n",
    "| nbytes   | 数组的总字节大小 (size * itemsize) | arr.nbytes   |\n",
    "| flags    | 数组的内存布局标志                  | arr.flags    |\n"
   ],
   "id": "b63451c673362381"
  },
  {
   "metadata": {
    "ExecuteTime": {
     "end_time": "2025-08-03T09:39:55.092504Z",
     "start_time": "2025-08-03T09:39:55.089368Z"
    }
   },
   "cell_type": "code",
   "source": [
    "# 零维数组\n",
    "arr = np.array(1)\n",
    "print(arr)\n",
    "print('shape:', arr.shape)  # 数组的形状\n",
    "print('ndim:', arr.ndim)    # 数组的维度\n",
    "print('size:', arr.size)    # 数组的元素个数\n",
    "print('dtype:', arr.dtype)  # 数组的数据类型\n",
    "print('T:', arr.T)        # 转置数组（零维数组转置仍为自身）"
   ],
   "id": "e889fb8da18443d4",
   "outputs": [
    {
     "name": "stdout",
     "output_type": "stream",
     "text": [
      "1\n",
      "shape: ()\n",
      "ndim: 0\n",
      "size: 1\n",
      "dtype: int64\n",
      "T: 1\n"
     ]
    }
   ],
   "execution_count": 139
  },
  {
   "metadata": {
    "ExecuteTime": {
     "end_time": "2025-08-03T09:39:55.097821Z",
     "start_time": "2025-08-03T09:39:55.093511Z"
    }
   },
   "cell_type": "code",
   "source": [
    "# 一维数组\n",
    "arr = np.array([1, 2, 3])\n",
    "print(arr)\n",
    "print('shape:', arr.shape)  # 数组的形状\n",
    "print('ndim:', arr.ndim)    # 数组的维度\n",
    "print('size:', arr.size)    # 数组的元素个数\n",
    "print('dtype:', arr.dtype)  # 数组的数据类型\n",
    "print('T:', arr.T)        # 转置数组（一维数组转置仍为自身）"
   ],
   "id": "28598f3598e4d602",
   "outputs": [
    {
     "name": "stdout",
     "output_type": "stream",
     "text": [
      "[1 2 3]\n",
      "shape: (3,)\n",
      "ndim: 1\n",
      "size: 3\n",
      "dtype: int64\n",
      "T: [1 2 3]\n"
     ]
    }
   ],
   "execution_count": 140
  },
  {
   "metadata": {
    "ExecuteTime": {
     "end_time": "2025-08-03T09:39:55.103024Z",
     "start_time": "2025-08-03T09:39:55.098326Z"
    }
   },
   "cell_type": "code",
   "source": [
    "# 二维行向量\n",
    "arr = np.array([[1, 2, 3]])\n",
    "print(arr)\n",
    "print('shape:', arr.shape)  # 数组的形状\n",
    "print('ndim:', arr.ndim)    # 数组的维度\n",
    "print('size:', arr.size)    # 数组的元素个数\n",
    "print('dtype:', arr.dtype)  # 数组的数据类型\n",
    "print('T:', arr.T)        # 转置数组（二维行向量转置为列向量）"
   ],
   "id": "aa822c37c7f5206b",
   "outputs": [
    {
     "name": "stdout",
     "output_type": "stream",
     "text": [
      "[[1 2 3]]\n",
      "shape: (1, 3)\n",
      "ndim: 2\n",
      "size: 3\n",
      "dtype: int64\n",
      "T: [[1]\n",
      " [2]\n",
      " [3]]\n"
     ]
    }
   ],
   "execution_count": 141
  },
  {
   "metadata": {
    "ExecuteTime": {
     "end_time": "2025-08-03T09:39:55.132353Z",
     "start_time": "2025-08-03T09:39:55.127107Z"
    }
   },
   "cell_type": "code",
   "source": [
    "# 二维列向量\n",
    "arr = np.array([[1], [2.5], [3]])\n",
    "print(arr)\n",
    "print('shape:', arr.shape)  # 数组的形状\n",
    "print('ndim:', arr.ndim)    # 数组的维度\n",
    "print('size:', arr.size)    # 数组的元素个数\n",
    "print('dtype:', arr.dtype)  # 数组的数据类型\n",
    "print('T:', arr.T)        # 转置数组（二维列向量转置为行向量）"
   ],
   "id": "de05d91998ab7569",
   "outputs": [
    {
     "name": "stdout",
     "output_type": "stream",
     "text": [
      "[[1. ]\n",
      " [2.5]\n",
      " [3. ]]\n",
      "shape: (3, 1)\n",
      "ndim: 2\n",
      "size: 3\n",
      "dtype: float64\n",
      "T: [[1.  2.5 3. ]]\n"
     ]
    }
   ],
   "execution_count": 142
  },
  {
   "metadata": {
    "ExecuteTime": {
     "end_time": "2025-08-03T09:39:55.149222Z",
     "start_time": "2025-08-03T09:39:55.144460Z"
    }
   },
   "cell_type": "code",
   "source": [
    "# 二维数组\n",
    "arr = np.array([[1, 2, 3], [4, 5, 6]])\n",
    "print(arr)\n",
    "print('shape:', arr.shape)  # 数组的形状\n",
    "print('ndim:', arr.ndim)    # 数组的维度\n",
    "print('size:', arr.size)    # 数组的元素个数\n",
    "print('dtype:', arr.dtype)  # 数组的数据类型\n",
    "print('T:', arr.T)        # 转置数组（二维数组转置）"
   ],
   "id": "5bc9919e87e5586",
   "outputs": [
    {
     "name": "stdout",
     "output_type": "stream",
     "text": [
      "[[1 2 3]\n",
      " [4 5 6]]\n",
      "shape: (2, 3)\n",
      "ndim: 2\n",
      "size: 6\n",
      "dtype: int64\n",
      "T: [[1 4]\n",
      " [2 5]\n",
      " [3 6]]\n"
     ]
    }
   ],
   "execution_count": 143
  }
 ],
 "metadata": {
  "kernelspec": {
   "display_name": "Python 3",
   "language": "python",
   "name": "python3"
  },
  "language_info": {
   "codemirror_mode": {
    "name": "ipython",
    "version": 2
   },
   "file_extension": ".py",
   "mimetype": "text/x-python",
   "name": "python",
   "nbconvert_exporter": "python",
   "pygments_lexer": "ipython2",
   "version": "2.7.6"
  }
 },
 "nbformat": 4,
 "nbformat_minor": 5
}
