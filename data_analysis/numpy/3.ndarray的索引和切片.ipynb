{
 "cells": [
  {
   "metadata": {},
   "cell_type": "markdown",
   "source": [
    "# ndarray的索引和切片\n",
    "\n",
    "NumPy数组的索引和切片与Python的列表类似，但有一些重要的区别。NumPy数组支持多维索引和切片，这使得它们在处理多维数据时非常强大。"
   ],
   "id": "65b72696c8ca9f4c"
  },
  {
   "metadata": {},
   "cell_type": "markdown",
   "source": "",
   "id": "eaaa1a212350cc7e"
  },
  {
   "metadata": {
    "ExecuteTime": {
     "end_time": "2025-08-03T14:59:15.654435Z",
     "start_time": "2025-08-03T14:59:15.638184Z"
    }
   },
   "cell_type": "code",
   "source": [
    "# 一维数组的索引和切片\n",
    "import numpy as np\n",
    "\n",
    "arr = np.array([1, 2, 3, 4, 5])\n",
    "print(\"一维数组:\", arr)\n",
    "\n",
    "# 索引\n",
    "print(\"索引 0 \", arr[0])  # 输出第一个元素\n",
    "print(\"索引 2 \", arr[2])  # 输出第三个元素\n",
    "# 布尔索引\n",
    "print(\"布尔索引 arr > 2 \", arr[arr > 2])  # 输出大于2的元素\n",
    "print(\"布尔索引 arr >2 且 arr < 5 \", arr[(arr > 2) & (arr < 5)])  # 输出大于2且小于5的元素\n",
    "\n",
    "# 切片(左闭右开区间) \n",
    "print(\"切片 1:3 \", arr[1:3])  # 输出第二到第三个元素\n",
    "# 负索引\n",
    "print(\"负索引 -1 \", arr[-1])  # 输出最后一个元素\n",
    "# 负切片\n",
    "print(\"负切片 -3:-1 \", arr[-3:-1])  # 输出倒数第三到倒数第二个元素\n",
    "# 切片到末尾\n",
    "print(\"切片 2: \", arr[2:])  # 输出从第三个元素到最后一个元素\n",
    "# 切片到开头\n",
    "print(\"切片 :3 \", arr[:3])  # 输出前三个元素\n",
    "# 全部切片\n",
    "print(\"全部切片 :\", arr[:])  # 输出所有元素\n",
    "# 步长切片\n",
    "print(\"步长切片 1:5:2 \", arr[1:5:2])  # 输出从第二个到第五个元素，步长为2"
   ],
   "id": "initial_id",
   "outputs": [
    {
     "name": "stdout",
     "output_type": "stream",
     "text": [
      "一维数组: [1 2 3 4 5]\n",
      "索引 0  1\n",
      "索引 2  3\n",
      "布尔索引 arr > 2  [3 4 5]\n",
      "布尔索引 arr >2 且 arr < 5  [3 4]\n",
      "切片 1:3  [2 3]\n",
      "负索引 -1  5\n",
      "负切片 -3:-1  [3 4]\n",
      "切片 2:  [3 4 5]\n",
      "切片 :3  [1 2 3]\n",
      "全部切片 : [1 2 3 4 5]\n",
      "步长切片 1:5:2  [2 4]\n"
     ]
    }
   ],
   "execution_count": 70
  },
  {
   "metadata": {
    "ExecuteTime": {
     "end_time": "2025-08-03T14:59:15.659799Z",
     "start_time": "2025-08-03T14:59:15.654435Z"
    }
   },
   "cell_type": "code",
   "source": [
    "# 二维数组的索引和切片\n",
    "arr2d = np.array([[1, 2, 3,4], [4, 5, 6,7], [7, 8, 9,10]])\n",
    "print(\"\\n二维数组:\\n\", arr2d)\n",
    "\n",
    "# 索引\n",
    "print(\"第一行第第二列:\", arr2d[0, 1])  # 输出第一行第二列的元素\n",
    "print(\"第三行第三列:\", arr2d[2, 2])  # 输出第三行第三列的元素\n",
    "\n",
    "print(\"第二行:\",arr2d[1])  # 输出第二行\n",
    "print(\"第二列\",arr2d[:, 1])  # 输出第二列\n",
    "print(\"第二行从第三列到最后一列:\",arr2d[1, 2:])  # 输出第二行从第三列到最后一列的元素"
   ],
   "id": "eeaf24e7e8193db9",
   "outputs": [
    {
     "name": "stdout",
     "output_type": "stream",
     "text": [
      "\n",
      "二维数组:\n",
      " [[ 1  2  3  4]\n",
      " [ 4  5  6  7]\n",
      " [ 7  8  9 10]]\n",
      "第一行第第二列: 2\n",
      "第三行第三列: 9\n",
      "第二行: [4 5 6 7]\n",
      "第二列 [2 5 8]\n",
      "第二行从第三列到最后一列: [6 7]\n"
     ]
    }
   ],
   "execution_count": 71
  },
  {
   "metadata": {
    "ExecuteTime": {
     "end_time": "2025-08-03T14:59:15.666308Z",
     "start_time": "2025-08-03T14:59:15.659799Z"
    }
   },
   "cell_type": "code",
   "source": [
    "# 二维数组布尔索引\n",
    "print(\"\\n二维数组布尔索引:\")\n",
    "print(\"大于5的元素:\\n\", arr2d[arr2d > 5])  # 输出大于5的元素 (会以一维数组形式输出)\n",
    "\n",
    "print(\"大于5的元素所在位置:\\n\", np.argwhere(arr2d > 5))  # 输出大于5的元素所在位置\n",
    "\n",
    "print(\"大于5的元素所在行:\\n\", arr2d[np.any(arr2d > 5, axis=1)])  # 输出大于5的元素所在行\n",
    "\n",
    "print(\"大于8的元素所在列:\\n\", arr2d[:, np.any(arr2d > 8, axis=0)])  # 输出大于5的元素所在列\n",
    "\n",
    "print(\"大于5的元素所在行和列:\\n\", arr2d[np.any(arr2d > 5, axis=1), :][:, np.any(arr2d > 5, axis=0)])  # 输出大于5的元素所在行和列\n",
    "\n",
    "print(\"第一行和第二行的元素大于5:\\n\", arr2d[:2, :][arr2d[:2, :] > 5])  # 输出第一行和第二行的元素大于5的元素"
   ],
   "id": "8a2d609e454a7264",
   "outputs": [
    {
     "name": "stdout",
     "output_type": "stream",
     "text": [
      "\n",
      "二维数组布尔索引:\n",
      "大于5的元素:\n",
      " [ 6  7  7  8  9 10]\n",
      "大于5的元素所在位置:\n",
      " [[1 2]\n",
      " [1 3]\n",
      " [2 0]\n",
      " [2 1]\n",
      " [2 2]\n",
      " [2 3]]\n",
      "大于5的元素所在行:\n",
      " [[ 4  5  6  7]\n",
      " [ 7  8  9 10]]\n",
      "大于8的元素所在列:\n",
      " [[ 3  4]\n",
      " [ 6  7]\n",
      " [ 9 10]]\n",
      "大于5的元素所在行和列:\n",
      " [[ 4  5  6  7]\n",
      " [ 7  8  9 10]]\n",
      "第一行和第二行的元素大于5:\n",
      " [6 7]\n"
     ]
    }
   ],
   "execution_count": 72
  },
  {
   "metadata": {},
   "cell_type": "markdown",
   "source": [
    "> 注意：在NumPy中，切片操作返回的是原数组的视图，而不是副本。这意味着对切片的修改会影响原数组。\n",
    "> 如果需要创建一个副本，可以使用`copy()`方法。\n",
    "> 例如：\n",
    "> ```python\n",
    "> arr_slice = arr[1:3].copy()  # 创建一个切片的副本\n",
    "> ```\n",
    "> 如果对`arr_slice`进行修改，原数组`arr`不会受到影响。"
   ],
   "id": "cac9d41b17cafb"
  },
  {
   "metadata": {},
   "cell_type": "markdown",
   "source": [
    "## 区分 arr[:][3] 和 arr[:, 3]\n",
    "\n",
    "在NumPy中，`arr[:][3]`和`arr[:, 3]`是不同的操作。\n",
    "\n",
    "`arr[:][3]` 执行过程：\n",
    "1. arr[:] 获取所有行\n",
    "2. 从结果中获取第 3 行\n",
    "\n",
    "等价于 arr[3]，最终返回的是数组的第四行（索引从0开始）。\n",
    "\n",
    "`arr[:, 3]`则是直接对二维数组进行切片，获取所有行的第四列。\n"
   ],
   "id": "e4914082dc869052"
  },
  {
   "metadata": {},
   "cell_type": "markdown",
   "source": "",
   "id": "4da08718bac4a8fe"
  }
 ],
 "metadata": {
  "kernelspec": {
   "display_name": "Python 3",
   "language": "python",
   "name": "python3"
  },
  "language_info": {
   "codemirror_mode": {
    "name": "ipython",
    "version": 2
   },
   "file_extension": ".py",
   "mimetype": "text/x-python",
   "name": "python",
   "nbconvert_exporter": "python",
   "pygments_lexer": "ipython2",
   "version": "2.7.6"
  }
 },
 "nbformat": 4,
 "nbformat_minor": 5
}
