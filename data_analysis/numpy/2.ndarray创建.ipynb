{
 "cells": [
  {
   "metadata": {},
   "cell_type": "markdown",
   "source": "# ndarray 的创建",
   "id": "6c086d6f0b389b11"
  },
  {
   "metadata": {
    "ExecuteTime": {
     "end_time": "2025-08-03T13:37:45.312629Z",
     "start_time": "2025-08-03T13:37:45.301999Z"
    }
   },
   "cell_type": "code",
   "source": [
    "import numpy as np\n",
    "list1 = [1, 2, 3, 4, 5]\n",
    "# 通过列表创建 ndarray\n",
    "array1 = np.array(list1)\n",
    "print(array1)\n",
    "print(array1.ndim)  # 输出数组的维度\n",
    "\n",
    "# 通过元组创建 ndarray\n",
    "tuple1 = (6, 7, 8, 9, 10)\n",
    "array2 = np.array(tuple1)\n",
    "print(array2)\n",
    "print(array2.ndim)  # 输出数组的维度"
   ],
   "id": "initial_id",
   "outputs": [
    {
     "name": "stdout",
     "output_type": "stream",
     "text": [
      "[1 2 3 4 5]\n",
      "1\n",
      "[ 6  7  8  9 10]\n",
      "1\n"
     ]
    }
   ],
   "execution_count": 279
  },
  {
   "metadata": {
    "ExecuteTime": {
     "end_time": "2025-08-03T13:37:45.319672Z",
     "start_time": "2025-08-03T13:37:45.312629Z"
    }
   },
   "cell_type": "code",
   "source": [
    "# copy 和 view\n",
    "array3 = array1.copy()  # 创建一个新的 ndarray\n",
    "print('arr3:',array3)\n",
    "array4 = array1.view()  # 创建一个视图\n",
    "print('arr4:',array4)\n",
    "\n",
    "# 修改原数组\n",
    "array1[0] = 100\n",
    "print('原数组',array1)  # 原数组\n",
    "print('copy 的数组:',array3)  # copy 的数组不受影响\n",
    "print('view 的数组:',array4)  # view 的数组会受影响"
   ],
   "id": "8279d2d9c4f4d24d",
   "outputs": [
    {
     "name": "stdout",
     "output_type": "stream",
     "text": [
      "arr3: [1 2 3 4 5]\n",
      "arr4: [1 2 3 4 5]\n",
      "原数组 [100   2   3   4   5]\n",
      "copy 的数组: [1 2 3 4 5]\n",
      "view 的数组: [100   2   3   4   5]\n"
     ]
    }
   ],
   "execution_count": 280
  },
  {
   "metadata": {
    "ExecuteTime": {
     "end_time": "2025-08-03T13:37:45.324074Z",
     "start_time": "2025-08-03T13:37:45.319672Z"
    }
   },
   "cell_type": "code",
   "source": [
    "# 预定义形状\n",
    "# 创建一个全为 0 的 ndarray\n",
    "array_zeros = np.zeros((2, 3),dtype=int)  # 2行3列\n",
    "array_zeros_1 = np.zeros((3,),dtype=int)  # 一维\n",
    "print(array_zeros)\n",
    "print('array_zeros_1:',array_zeros_1)\n",
    "\n",
    "# 输出数据类型默认为 float64,可以通过 dtype 参数指定为 int\n",
    "print('类型:',array_zeros.dtype) "
   ],
   "id": "abc07416d453c56b",
   "outputs": [
    {
     "name": "stdout",
     "output_type": "stream",
     "text": [
      "[[0 0 0]\n",
      " [0 0 0]]\n",
      "array_zeros_1: [0 0 0]\n",
      "类型: int64\n"
     ]
    }
   ],
   "execution_count": 281
  },
  {
   "metadata": {
    "ExecuteTime": {
     "end_time": "2025-08-03T13:37:45.328346Z",
     "start_time": "2025-08-03T13:37:45.324074Z"
    }
   },
   "cell_type": "code",
   "source": [
    "# 创建一个全为 1 的 ndarray\n",
    "array_ones = np.ones((2, 3), dtype=int)  # 2行3列\n",
    "array_ones_1 = np.ones((3,), dtype=int)  # 一维\n",
    "print(array_ones)\n",
    "print(array_ones_1)"
   ],
   "id": "bba7162d9af5708e",
   "outputs": [
    {
     "name": "stdout",
     "output_type": "stream",
     "text": [
      "[[1 1 1]\n",
      " [1 1 1]]\n",
      "[1 1 1]\n"
     ]
    }
   ],
   "execution_count": 282
  },
  {
   "metadata": {
    "ExecuteTime": {
     "end_time": "2025-08-03T13:37:45.338785Z",
     "start_time": "2025-08-03T13:37:45.333534Z"
    }
   },
   "cell_type": "code",
   "source": [
    "# 未初始化\n",
    "# 创建一个未初始化的 ndarray\n",
    "array_empty = np.empty((4, 3), dtype=int)  # 4行3列\n",
    "array_empty_1 = np.empty((3,), dtype=int)  # 一维\n",
    "print(array_empty)\n",
    "print(array_empty_1)"
   ],
   "id": "78a678e33538f5ce",
   "outputs": [
    {
     "name": "stdout",
     "output_type": "stream",
     "text": [
      "[[      3123847026568                  64                   0]\n",
      " [                  0 8751735922824839168 7077745675407353187]\n",
      " [4051094751023685938 7017280447209287777 4134975379924463973]\n",
      " [4063989822605255782 3991657535397573730 4063145586623329124]]\n",
      "[1 1 1]\n"
     ]
    }
   ],
   "execution_count": 283
  },
  {
   "metadata": {
    "ExecuteTime": {
     "end_time": "2025-08-03T13:37:45.362101Z",
     "start_time": "2025-08-03T13:37:45.355992Z"
    }
   },
   "cell_type": "code",
   "source": [
    "# 指定值\n",
    "# 创建一个全为指定值的 ndarray\n",
    "array_full = np.full((2, 3), 7, dtype=int)  # 2行3列\n",
    "print(array_full)\n",
    "\n",
    "# 创建一个形如 array_full 的全 0 ndarray\n",
    "array_zeros_like = np.zeros_like(array_full)  # 2行3列\n",
    "print(array_zeros_like)\n",
    "\n",
    "# 创建一个形如 array_full 的全 1 ndarray\n",
    "array_ones_like = np.ones_like(array_full)  # 2行3列\n",
    "print(array_ones_like)\n",
    "\n",
    "# 同理还有 empty_like 和 full_like"
   ],
   "id": "fb69c631dca99190",
   "outputs": [
    {
     "name": "stdout",
     "output_type": "stream",
     "text": [
      "[[7 7 7]\n",
      " [7 7 7]]\n",
      "[[0 0 0]\n",
      " [0 0 0]]\n",
      "[[1 1 1]\n",
      " [1 1 1]]\n"
     ]
    }
   ],
   "execution_count": 284
  },
  {
   "metadata": {
    "ExecuteTime": {
     "end_time": "2025-08-03T14:28:00.127754Z",
     "start_time": "2025-08-03T14:28:00.122955Z"
    }
   },
   "cell_type": "code",
   "source": [
    "# 创建一个单位矩阵\n",
    "array_eye = np.eye(3, dtype=np.int64)  # 3x3单位矩阵\n",
    "print(array_eye)"
   ],
   "id": "d29df02a648cc1bd",
   "outputs": [
    {
     "name": "stdout",
     "output_type": "stream",
     "text": [
      "[[1 0 0]\n",
      " [0 1 0]\n",
      " [0 0 1]]\n"
     ]
    }
   ],
   "execution_count": 294
  },
  {
   "metadata": {
    "ExecuteTime": {
     "end_time": "2025-08-03T13:37:45.380156Z",
     "start_time": "2025-08-03T13:37:45.372350Z"
    }
   },
   "cell_type": "code",
   "source": [
    "# 创建一个对角矩阵\n",
    "array_diag = np.diag([1, 2, 3, 4])  # 对角线为 [1, 2, 3, 4] 的矩阵\n",
    "print(array_diag)\n",
    "# 创建一个对角矩阵，指定对角线位置\n",
    "array_diag_k = np.diag([1, 2, 3, 4], k=1)  # 上对角线\n",
    "print(array_diag_k)\n",
    "# 创建一个对角矩阵，指定对角线位置\n",
    "array_diag_m = np.diag([1, 2, 3, 4], k=-1)  # 下对角线\n",
    "print(array_diag_m)"
   ],
   "id": "f8106a9263e5286c",
   "outputs": [
    {
     "name": "stdout",
     "output_type": "stream",
     "text": [
      "[[1 0 0 0]\n",
      " [0 2 0 0]\n",
      " [0 0 3 0]\n",
      " [0 0 0 4]]\n",
      "[[0 1 0 0 0]\n",
      " [0 0 2 0 0]\n",
      " [0 0 0 3 0]\n",
      " [0 0 0 0 4]\n",
      " [0 0 0 0 0]]\n",
      "[[0 0 0 0 0]\n",
      " [1 0 0 0 0]\n",
      " [0 2 0 0 0]\n",
      " [0 0 3 0 0]\n",
      " [0 0 0 4 0]]\n"
     ]
    }
   ],
   "execution_count": 286
  },
  {
   "metadata": {
    "ExecuteTime": {
     "end_time": "2025-08-03T13:37:45.384443Z",
     "start_time": "2025-08-03T13:37:45.380156Z"
    }
   },
   "cell_type": "code",
   "source": [
    "# 创建一个等差数列\n",
    "array_arange = np.arange(0, 10, 2)  # 从 0 到 10，步长为 2 (0,2,4,6,8)\n",
    "print(array_arange)"
   ],
   "id": "87446d766b2b6c28",
   "outputs": [
    {
     "name": "stdout",
     "output_type": "stream",
     "text": [
      "[0 2 4 6 8]\n"
     ]
    }
   ],
   "execution_count": 287
  },
  {
   "metadata": {
    "ExecuteTime": {
     "end_time": "2025-08-03T13:37:45.389981Z",
     "start_time": "2025-08-03T13:37:45.384443Z"
    }
   },
   "cell_type": "code",
   "source": [
    "# 等间隔数列\n",
    "array_linspace = np.linspace(0, 1, 5)  # 从 0 到 1，包含 5 个点\n",
    "print(array_linspace)"
   ],
   "id": "67c06b6ff7193de",
   "outputs": [
    {
     "name": "stdout",
     "output_type": "stream",
     "text": [
      "[0.   0.25 0.5  0.75 1.  ]\n"
     ]
    }
   ],
   "execution_count": 288
  },
  {
   "metadata": {
    "ExecuteTime": {
     "end_time": "2025-08-03T13:37:45.397637Z",
     "start_time": "2025-08-03T13:37:45.389981Z"
    }
   },
   "cell_type": "code",
   "source": [
    "# 对数间隔数列\n",
    "array_logspace = np.logspace(0, 2, 5)  # 从 10^0 到 10^2，包含 5 个点（默认底数是 10）\n",
    "print(array_logspace)\n",
    "\n",
    "# 创建一个对数间隔数列，指定底数\n",
    "array_logspace_base = np.logspace(0, 2, 5, base=2)  # 从 2^0 到 2^2，包含 5 个点，底数为 2"
   ],
   "id": "6c9898f63a07e38a",
   "outputs": [
    {
     "name": "stdout",
     "output_type": "stream",
     "text": [
      "[  1.           3.16227766  10.          31.6227766  100.        ]\n"
     ]
    }
   ],
   "execution_count": 289
  },
  {
   "metadata": {
    "ExecuteTime": {
     "end_time": "2025-08-03T13:37:45.401781Z",
     "start_time": "2025-08-03T13:37:45.397637Z"
    }
   },
   "cell_type": "code",
   "source": [
    "# 创建一个随机数数组\n",
    "array_random = np.random.rand(3, 2)  # 3行2列的随机数数组（ 0 到 1 之间均匀分布）\n",
    "print(array_random)"
   ],
   "id": "96214fdb694663ae",
   "outputs": [
    {
     "name": "stdout",
     "output_type": "stream",
     "text": [
      "[[0.21767187 0.49347546]\n",
      " [0.03014642 0.11643775]\n",
      " [0.1727809  0.06719469]]\n"
     ]
    }
   ],
   "execution_count": 290
  },
  {
   "metadata": {
    "ExecuteTime": {
     "end_time": "2025-08-03T13:37:45.413236Z",
     "start_time": "2025-08-03T13:37:45.408542Z"
    }
   },
   "cell_type": "code",
   "source": [
    "# 生成指定范围内的随机浮点数\n",
    "array_random_uniform = np.random.uniform(1, 10, (3, 2))  # 3行2列的随机数数组（1到10之间均匀分布）\n",
    "print(array_random_uniform)"
   ],
   "id": "387a47a83bf1ede",
   "outputs": [
    {
     "name": "stdout",
     "output_type": "stream",
     "text": [
      "[[3.57754673 7.13006268]\n",
      " [6.878171   5.26289505]\n",
      " [2.55422017 4.2538671 ]]\n"
     ]
    }
   ],
   "execution_count": 291
  },
  {
   "metadata": {
    "ExecuteTime": {
     "end_time": "2025-08-03T13:37:45.422224Z",
     "start_time": "2025-08-03T13:37:45.413236Z"
    }
   },
   "cell_type": "code",
   "source": [
    "# 生成指定范围内的随机整数\n",
    "array_random_integers = np.random.randint(1, 10, (3, 2))  # 3行2列的随机整数数组（1到10之间）\n",
    "print(array_random_integers)"
   ],
   "id": "9b6f618f7a4c1f50",
   "outputs": [
    {
     "name": "stdout",
     "output_type": "stream",
     "text": [
      "[[8 9]\n",
      " [5 3]\n",
      " [9 5]]\n"
     ]
    }
   ],
   "execution_count": 292
  },
  {
   "metadata": {
    "ExecuteTime": {
     "end_time": "2025-08-03T13:37:45.432809Z",
     "start_time": "2025-08-03T13:37:45.428253Z"
    }
   },
   "cell_type": "code",
   "source": [
    "# 生成正态分布的随机数\n",
    "# 标准正态分布（均值为 0，标准差为 1）\n",
    "standard_normal = np.random.randn(3, 2)  # 3行2列的标准正态分布随机数\n",
    "print(standard_normal)\n",
    "\n",
    "# 生成指定均值和标准差的正态分布随机数(更常用)\n",
    "array_random_normal = np.random.normal(0, 1, (3, 2))  # 均值为 0，标准差为 1 的正态分布随机数\n",
    "print(array_random_normal)"
   ],
   "id": "aa72a2964775327b",
   "outputs": [
    {
     "name": "stdout",
     "output_type": "stream",
     "text": [
      "[[-0.49297348  2.35022786]\n",
      " [ 1.25192044  2.32481316]\n",
      " [ 1.32865662  1.73803669]]\n",
      "[[ 0.24445663  1.40235167]\n",
      " [-0.0557758   1.5968471 ]\n",
      " [-1.3298     -0.84078247]]\n"
     ]
    }
   ],
   "execution_count": 293
  },
  {
   "metadata": {
    "ExecuteTime": {
     "end_time": "2025-08-03T13:37:45.435735Z",
     "start_time": "2025-08-03T13:37:45.432809Z"
    }
   },
   "cell_type": "code",
   "source": "",
   "id": "a103e38fb9a643ac",
   "outputs": [],
   "execution_count": 293
  }
 ],
 "metadata": {
  "kernelspec": {
   "display_name": "Python 3",
   "language": "python",
   "name": "python3"
  },
  "language_info": {
   "codemirror_mode": {
    "name": "ipython",
    "version": 2
   },
   "file_extension": ".py",
   "mimetype": "text/x-python",
   "name": "python",
   "nbconvert_exporter": "python",
   "pygments_lexer": "ipython2",
   "version": "2.7.6"
  }
 },
 "nbformat": 4,
 "nbformat_minor": 5
}
