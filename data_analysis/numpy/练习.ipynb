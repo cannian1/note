{
 "cells": [
  {
   "metadata": {},
   "cell_type": "code",
   "outputs": [],
   "execution_count": null,
   "source": "import numpy as np",
   "id": "c61fccefd5bd5e61"
  },
  {
   "metadata": {},
   "cell_type": "markdown",
   "source": [
    "题目1：温度数据分析\n",
    "某城市一周的温度数据：[28, 30, 32, 31, 29, 28, 27]。\n",
    "- 请计算这周的平均温度、最高温度和最低温度\n",
    "- 请找出温度超过30度的天数"
   ],
   "id": "c733a84c3a5f64d8"
  },
  {
   "metadata": {
    "ExecuteTime": {
     "end_time": "2025-08-12T15:11:49.264155Z",
     "start_time": "2025-08-12T15:11:49.194159Z"
    }
   },
   "cell_type": "code",
   "source": [
    "# 温度数据\n",
    "temperatures = np.array([28, 30, 32, 31, 29, 28, 27])\n",
    "# 计算平均温度\n",
    "average_temp = np.mean(temperatures)\n",
    "print(f\"平均温度: {average_temp:.2f}°C\")\n",
    "# 计算最高温度\n",
    "max_temp = np.max(temperatures)\n",
    "print(f\"最高温度: {max_temp}°C\")\n",
    "# 计算最低温度\n",
    "min_temp = np.min(temperatures)\n",
    "print(f\"最低温度: {min_temp}°C\")\n",
    "# 计算超过30度的天数\n",
    "days_above_30 = np.sum(temperatures > 30)\n",
    "print(f\"超过30度的天数: {days_above_30}天\")"
   ],
   "id": "initial_id",
   "outputs": [
    {
     "name": "stdout",
     "output_type": "stream",
     "text": [
      "平均温度: 29.29°C\n",
      "最高温度: 32°C\n",
      "最低温度: 27°C\n",
      "超过30度的天数: 2天\n"
     ]
    }
   ],
   "execution_count": 1
  },
  {
   "metadata": {},
   "cell_type": "code",
   "outputs": [],
   "execution_count": null,
   "source": "",
   "id": "d3acd40094bbcfeb"
  },
  {
   "metadata": {},
   "cell_type": "markdown",
   "source": [
    "题目2：学生成绩统计\n",
    "某班学生的数学成绩：[85, 90, 78, 92, 88, 76, 95]。\n",
    "- 请计算该班学生的平均分、中位数和标准差\n",
    "- 将成绩转化为百分制成绩（满分100分），并找出成绩在85分以上的学生人数"
   ],
   "id": "d98d3421e4be23d"
  },
  {
   "metadata": {
    "ExecuteTime": {
     "end_time": "2025-08-12T15:14:26.457807Z",
     "start_time": "2025-08-12T15:14:26.437459Z"
    }
   },
   "cell_type": "code",
   "source": [
    "# 学生成绩数据\n",
    "scores = np.array([85, 90, 78, 92, 88, 76, 95])\n",
    "# 计算平均分\n",
    "average_score = np.mean(scores)\n",
    "print(f\"平均分: {average_score:.2f}\")\n",
    "# 计算中位数\n",
    "median_score = np.median(scores)\n",
    "print(f\"中位数: {median_score}\")\n",
    "# 计算标准差\n",
    "std_dev_score = np.std(scores)\n",
    "print(f\"标准差: {std_dev_score:.2f}\")\n",
    "# 转化为百分制成绩（假设原成绩已是百分制）\n",
    "# 找出成绩在85分以上的学生人数\n",
    "students_above_85 = np.sum(scores > 85)\n",
    "print(f\"成绩在85分以上的学生人数: {students_above_85}人\")"
   ],
   "id": "fa2712c8858f13e1",
   "outputs": [
    {
     "name": "stdout",
     "output_type": "stream",
     "text": [
      "平均分: 86.29\n",
      "中位数: 88.0\n",
      "标准差: 6.56\n",
      "成绩在85分以上的学生人数: 4人\n"
     ]
    }
   ],
   "execution_count": 2
  },
  {
   "metadata": {},
   "cell_type": "markdown",
   "source": [
    "题目3：矩阵运算\n",
    "给定两个矩阵A和B：\n",
    "A = [[1, 2, 3], [4, 5, 6], [7, 8, 9]]\n",
    "B = [[9, 8, 7], [6, 5, 4], [3, 2, 1]]。\n",
    "- 请计算矩阵A 和 B 的标量和、点积（元素对应相乘）\n",
    "- 请计算矩阵A 和 B 矩阵乘法"
   ],
   "id": "b42070c81b1520f9"
  },
  {
   "metadata": {
    "ExecuteTime": {
     "end_time": "2025-08-12T15:18:46.694898Z",
     "start_time": "2025-08-12T15:18:46.690405Z"
    }
   },
   "cell_type": "code",
   "source": [
    "# 定义矩阵A和B\n",
    "A = np.array([[1, 2, 3], [4, 5, 6], [7, 8, 9]])\n",
    "B = np.array([[9, 8, 7], [6, 5, 4], [3, 2, 1]])\n",
    "# 计算矩阵A和B的标量和\n",
    "scalar_sum = A + B\n",
    "print(\"矩阵A和B的标量和：\")\n",
    "print(scalar_sum)\n",
    "# 计算矩阵A和B的点积（元素对应相乘）\n",
    "elementwise_product = A * B\n",
    "print(\"矩阵A和B的点积（元素对应相乘）：\")\n",
    "print(elementwise_product)\n",
    "# 计算矩阵A和B的矩阵乘法\n",
    "matrix_product = A@B\n",
    "print(\"矩阵A和B的矩阵乘法：\")\n",
    "print(matrix_product)"
   ],
   "id": "fc0ceaead4ea7588",
   "outputs": [
    {
     "name": "stdout",
     "output_type": "stream",
     "text": [
      "矩阵A和B的标量和：\n",
      "[[10 10 10]\n",
      " [10 10 10]\n",
      " [10 10 10]]\n",
      "矩阵A和B的点积（元素对应相乘）：\n",
      "[[ 9 16 21]\n",
      " [24 25 24]\n",
      " [21 16  9]]\n",
      "矩阵A和B的矩阵乘法：\n",
      "[[ 30  24  18]\n",
      " [ 84  69  54]\n",
      " [138 114  90]]\n"
     ]
    }
   ],
   "execution_count": 3
  },
  {
   "metadata": {},
   "cell_type": "markdown",
   "source": [
    "题目4：数据归一化\n",
    "某数据集包含以下数值：[10, 20, 30, 40, 50]。\n",
    "- 请对该数据集进行归一化处理，使得数据范围在[0, 1]之间"
   ],
   "id": "aca18d118f5888e8"
  },
  {
   "metadata": {
    "ExecuteTime": {
     "end_time": "2025-08-12T15:20:07.903286Z",
     "start_time": "2025-08-12T15:20:07.899608Z"
    }
   },
   "cell_type": "code",
   "source": [
    "# 数据集\n",
    "data = np.array([10, 20, 30, 40, 50])\n",
    "# 归一化处理\n",
    "normalized_data = (data - np.min(data)) / (np.max(data) - np.min(data))\n",
    "print(\"归一化后的数据集：\")\n",
    "print(normalized_data)"
   ],
   "id": "4362fa4f0a59b674",
   "outputs": [
    {
     "name": "stdout",
     "output_type": "stream",
     "text": [
      "归一化后的数据集：\n",
      "[0.   0.25 0.5  0.75 1.  ]\n"
     ]
    }
   ],
   "execution_count": 4
  },
  {
   "metadata": {},
   "cell_type": "markdown",
   "source": [
    "题目5：随机数生成\n",
    "生成一个 (3, 4) 的随机整数矩阵，范围在 [0, 10) 之间。\n",
    "- 计算每列的最大值和每行的最小值\n",
    "- 将数组中所有奇数替换为 -1"
   ],
   "id": "f3f07e2240c17d3f"
  },
  {
   "metadata": {
    "ExecuteTime": {
     "end_time": "2025-08-12T15:25:17.196047Z",
     "start_time": "2025-08-12T15:25:17.191088Z"
    }
   },
   "cell_type": "code",
   "source": [
    "# 生成随机整数矩阵\n",
    "random_matrix = np.random.randint(0, 10, size=(3, 4))\n",
    "print(\"随机整数矩阵：\")\n",
    "print(random_matrix)\n",
    "# 计算每列的最大值\n",
    "max_per_column = np.max(random_matrix, axis=0)\n",
    "print(\"每列的最大值：\")\n",
    "print(max_per_column)\n",
    "# 计算每行的最小值\n",
    "min_per_row = np.min(random_matrix, axis=1)\n",
    "print(\"每行的最小值：\")\n",
    "print(min_per_row)\n",
    "# 将数组中所有奇数替换为 -1\n",
    "random_matrix[random_matrix % 2 == 1] = -1\n",
    "print(\"将奇数替换为 -1 后的矩阵：\")\n",
    "print(random_matrix)\n",
    "# 也可以用 np.where\n",
    "random_matrix = np.where(random_matrix % 2 == 1, -1, random_matrix)\n",
    "print(\"使用 np.where 替换奇数后的矩阵：\")\n",
    "print(random_matrix)"
   ],
   "id": "dd42ac7bae05d333",
   "outputs": [
    {
     "name": "stdout",
     "output_type": "stream",
     "text": [
      "随机整数矩阵：\n",
      "[[8 4 9 4]\n",
      " [0 3 4 2]\n",
      " [4 7 9 6]]\n",
      "每列的最大值：\n",
      "[8 7 9 6]\n",
      "每行的最小值：\n",
      "[4 0 4]\n",
      "将奇数替换为 -1 后的矩阵：\n",
      "[[ 8  4 -1  4]\n",
      " [ 0 -1  4  2]\n",
      " [ 4 -1 -1  6]]\n",
      "使用 np.where 替换奇数后的矩阵：\n",
      "[[ 8  4 -1  4]\n",
      " [ 0 -1  4  2]\n",
      " [ 4 -1 -1  6]]\n"
     ]
    }
   ],
   "execution_count": 7
  },
  {
   "metadata": {},
   "cell_type": "markdown",
   "source": [
    "题目6：数组变形\n",
    "创建一个 1到12 的一维数组，并转换为 (3,4) 的二维数组。\n",
    "- 计算每行的和与每列的平均值\n",
    "- 将数组展平为一维数组"
   ],
   "id": "ab14b500a644fb2d"
  },
  {
   "metadata": {
    "ExecuteTime": {
     "end_time": "2025-08-12T15:32:13.901581Z",
     "start_time": "2025-08-12T15:32:13.896017Z"
    }
   },
   "cell_type": "code",
   "source": [
    "# 一维数组\n",
    "one_d_array = np.arange(1,13)\n",
    "# 转换为 (3, 4) 的二维数组\n",
    "two_d_array = one_d_array.reshape((3, 4))\n",
    "print(\"二维数组：\")\n",
    "print(two_d_array)\n",
    "# 计算每行的和\n",
    "row_sums = np.sum(two_d_array, axis=1)\n",
    "print(\"每行的和：\")\n",
    "print(row_sums)\n",
    "# 计算每列的平均值\n",
    "column_means = np.mean(two_d_array, axis=0)\n",
    "print(\"每列的平均值：\")\n",
    "print(column_means)\n",
    "# 将数组展平为一维数组\n",
    "flattened_array = two_d_array.flatten()\n",
    "print(\"展平后的数组：\")\n",
    "print(flattened_array)\n"
   ],
   "id": "63345cc6bc57491a",
   "outputs": [
    {
     "name": "stdout",
     "output_type": "stream",
     "text": [
      "二维数组：\n",
      "[[ 1  2  3  4]\n",
      " [ 5  6  7  8]\n",
      " [ 9 10 11 12]]\n",
      "每行的和：\n",
      "[10 26 42]\n",
      "每列的平均值：\n",
      "[5. 6. 7. 8.]\n",
      "展平后的数组：\n",
      "[ 1  2  3  4  5  6  7  8  9 10 11 12]\n"
     ]
    }
   ],
   "execution_count": 10
  },
  {
   "metadata": {},
   "cell_type": "markdown",
   "source": [
    "题目7：唯一值与排序\n",
    "给定数组：[5, 3, 8, 3, 2, 5, 7]。\n",
    "- 请找出数组中的唯一值并排序\n",
    "- 计算每个唯一值的出现次数"
   ],
   "id": "9218ee7a3ff78559"
  },
  {
   "metadata": {
    "ExecuteTime": {
     "end_time": "2025-08-12T15:35:51.073539Z",
     "start_time": "2025-08-12T15:35:51.066546Z"
    }
   },
   "cell_type": "code",
   "source": [
    "# 给定数组\n",
    "array = np.array([5, 3, 8, 3, 2, 5, 7])\n",
    "# 找出唯一值并排序\n",
    "unique_values = np.unique(array)\n",
    "sorted_unique_values = np.sort(unique_values)\n",
    "print(\"唯一值并排序：\")\n",
    "print(sorted_unique_values)\n",
    "# 计算每个唯一值的出现次数\n",
    "unique_counts = np.array([np.sum(array == value) for value in sorted_unique_values])\n",
    "print(\"每个唯一值的出现次数：\")\n",
    "print(unique_counts)"
   ],
   "id": "3733f348bc4d3193",
   "outputs": [
    {
     "name": "stdout",
     "output_type": "stream",
     "text": [
      "唯一值并排序：\n",
      "[2 3 5 7 8]\n",
      "每个唯一值的出现次数：\n",
      "[1 2 2 1 1]\n"
     ]
    }
   ],
   "execution_count": 11
  },
  {
   "metadata": {},
   "cell_type": "code",
   "outputs": [],
   "execution_count": null,
   "source": [
    "# 也可以使用 np.unique 的返回值\n",
    "unique_values, unique_counts = np.unique(array, return_counts=True)\n",
    "print(\"唯一值：\", unique_values)\n",
    "print(\"每个唯一值的出现次数：\", unique_counts)"
   ],
   "id": "6e19fb36f17d63c9"
  },
  {
   "metadata": {},
   "cell_type": "markdown",
   "source": "",
   "id": "9866e8fc6f60b84"
  }
 ],
 "metadata": {
  "kernelspec": {
   "display_name": "Python 3",
   "language": "python",
   "name": "python3"
  },
  "language_info": {
   "codemirror_mode": {
    "name": "ipython",
    "version": 2
   },
   "file_extension": ".py",
   "mimetype": "text/x-python",
   "name": "python",
   "nbconvert_exporter": "python",
   "pygments_lexer": "ipython2",
   "version": "2.7.6"
  }
 },
 "nbformat": 4,
 "nbformat_minor": 5
}
