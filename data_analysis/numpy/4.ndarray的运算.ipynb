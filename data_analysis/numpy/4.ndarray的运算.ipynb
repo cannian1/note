{
 "cells": [
  {
   "metadata": {},
   "cell_type": "markdown",
   "source": "# ndarray的运算",
   "id": "8b0deaa0063d91fd"
  },
  {
   "metadata": {
    "ExecuteTime": {
     "end_time": "2025-08-04T13:31:52.858832Z",
     "start_time": "2025-08-04T13:31:52.853342Z"
    }
   },
   "cell_type": "code",
   "source": [
    "import numpy as np\n",
    "# 算数运算\n",
    "a = np.array([[1, 2], [3, 4]])\n",
    "b = np.array([[5, 6], [7, 8]])\n",
    "# 加法\n",
    "c = a + b\n",
    "# 减法\n",
    "d = a - b\n",
    "# 乘法\n",
    "e = a * b\n",
    "# 除法\n",
    "f = a / b\n",
    "# 求余\n",
    "g = a % b\n",
    "# 幂运算\n",
    "h = a ** b\n",
    "# 矩阵乘法\n",
    "i = np.dot(a, b)\n",
    "# 矩阵乘法（另一种方式）\n",
    "j = a @ b"
   ],
   "id": "initial_id",
   "outputs": [
    {
     "name": "stdout",
     "output_type": "stream",
     "text": [
      "加法结果:\n",
      " [[19 22]\n",
      " [43 50]]\n"
     ]
    }
   ],
   "execution_count": 5
  },
  {
   "metadata": {
    "ExecuteTime": {
     "end_time": "2025-08-04T13:35:19.760853Z",
     "start_time": "2025-08-04T13:35:19.753601Z"
    }
   },
   "cell_type": "code",
   "source": [
    "# 数组与标量运算\n",
    "k = a + 10\n",
    "print(k)\n",
    "# 数组与标量运算（另一种方式）\n",
    "l = np.add(a, 10)"
   ],
   "id": "3bfc2f01219f1071",
   "outputs": [
    {
     "name": "stdout",
     "output_type": "stream",
     "text": [
      "[[11 12]\n",
      " [13 14]]\n"
     ]
    }
   ],
   "execution_count": 7
  }
 ],
 "metadata": {
  "kernelspec": {
   "display_name": "Python 3",
   "language": "python",
   "name": "python3"
  },
  "language_info": {
   "codemirror_mode": {
    "name": "ipython",
    "version": 2
   },
   "file_extension": ".py",
   "mimetype": "text/x-python",
   "name": "python",
   "nbconvert_exporter": "python",
   "pygments_lexer": "ipython2",
   "version": "2.7.6"
  }
 },
 "nbformat": 4,
 "nbformat_minor": 5
}
