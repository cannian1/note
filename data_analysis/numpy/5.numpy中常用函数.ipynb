{
 "cells": [
  {
   "metadata": {},
   "cell_type": "markdown",
   "source": [
    "# 5. numpy中常用函数\n",
    "\n",
    "## 1. 数学函数"
   ],
   "id": "ecff183475085a03"
  },
  {
   "metadata": {
    "ExecuteTime": {
     "end_time": "2025-08-04T15:17:43.150382Z",
     "start_time": "2025-08-04T15:17:43.144376Z"
    }
   },
   "cell_type": "code",
   "source": [
    "import numpy as np\n",
    "\n",
    "# 计算平方根\n",
    "print(np.sqrt([1, 4, 9, 16]))  # 1. 2. 3. 4.\n",
    "print(np.sqrt(9))  # 3.0\n"
   ],
   "id": "initial_id",
   "outputs": [
    {
     "name": "stdout",
     "output_type": "stream",
     "text": [
      "[1. 2. 3. 4.]\n",
      "3.0\n"
     ]
    }
   ],
   "execution_count": 397
  },
  {
   "metadata": {
    "ExecuteTime": {
     "end_time": "2025-08-04T15:17:43.173999Z",
     "start_time": "2025-08-04T15:17:43.168010Z"
    }
   },
   "cell_type": "code",
   "source": [
    "# 计算立方根\n",
    "print(np.cbrt([1, 8, 27, 64]))  # 1. 2. 3. 4.\n",
    "print(np.cbrt(27))  # 3.0"
   ],
   "id": "dae57ff4ccb80823",
   "outputs": [
    {
     "name": "stdout",
     "output_type": "stream",
     "text": [
      "[1. 2. 3. 4.]\n",
      "3.0\n"
     ]
    }
   ],
   "execution_count": 398
  },
  {
   "metadata": {
    "ExecuteTime": {
     "end_time": "2025-08-04T15:17:43.211104Z",
     "start_time": "2025-08-04T15:17:43.207626Z"
    }
   },
   "cell_type": "code",
   "source": [
    "# 计算指数\n",
    "print(np.exp([1, 2, 3]))  # e^1, e^2, e^3"
   ],
   "id": "70b825fb6b549ea9",
   "outputs": [
    {
     "name": "stdout",
     "output_type": "stream",
     "text": [
      "[ 2.71828183  7.3890561  20.08553692]\n"
     ]
    }
   ],
   "execution_count": 399
  },
  {
   "metadata": {
    "ExecuteTime": {
     "end_time": "2025-08-04T15:17:43.215464Z",
     "start_time": "2025-08-04T15:17:43.211104Z"
    }
   },
   "cell_type": "code",
   "source": [
    "# 计算自然对数 lnX\n",
    "print(np.log([1, np.e, np.e ** 2]))  # log(1), log(e), log(e^2)"
   ],
   "id": "c1c4e118fe1bb971",
   "outputs": [
    {
     "name": "stdout",
     "output_type": "stream",
     "text": [
      "[0. 1. 2.]\n"
     ]
    }
   ],
   "execution_count": 400
  },
  {
   "metadata": {
    "ExecuteTime": {
     "end_time": "2025-08-04T15:17:43.225620Z",
     "start_time": "2025-08-04T15:17:43.215464Z"
    }
   },
   "cell_type": "code",
   "source": [
    "# 计算正弦、余弦、正切\n",
    "print(np.sin(np.pi / 2))  # 1.0\n",
    "print(np.cos(0))  # 1.0\n",
    "print(np.tan(np.pi / 4))"
   ],
   "id": "a59680b7c16e91df",
   "outputs": [
    {
     "name": "stdout",
     "output_type": "stream",
     "text": [
      "1.0\n",
      "1.0\n",
      "0.9999999999999999\n"
     ]
    }
   ],
   "execution_count": 401
  },
  {
   "metadata": {
    "ExecuteTime": {
     "end_time": "2025-08-04T15:17:43.235484Z",
     "start_time": "2025-08-04T15:17:43.228976Z"
    }
   },
   "cell_type": "code",
   "source": [
    "# 计算绝对值\n",
    "print(np.abs([-1, -2, -3]))  # 1 2 3"
   ],
   "id": "2f36afde746603d4",
   "outputs": [
    {
     "name": "stdout",
     "output_type": "stream",
     "text": [
      "[1 2 3]\n"
     ]
    }
   ],
   "execution_count": 402
  },
  {
   "metadata": {
    "ExecuteTime": {
     "end_time": "2025-08-04T15:17:43.254334Z",
     "start_time": "2025-08-04T15:17:43.250222Z"
    }
   },
   "cell_type": "code",
   "source": [
    "# 计算 a 的 b 次幂\n",
    "print(np.power([1, 2, 3], 2))  # 1 4 9"
   ],
   "id": "fb1d3a0ed85c9d2a",
   "outputs": [
    {
     "name": "stdout",
     "output_type": "stream",
     "text": [
      "[1 4 9]\n"
     ]
    }
   ],
   "execution_count": 403
  },
  {
   "metadata": {
    "ExecuteTime": {
     "end_time": "2025-08-04T15:17:43.258992Z",
     "start_time": "2025-08-04T15:17:43.254334Z"
    }
   },
   "cell_type": "code",
   "source": [
    "# 四舍六入偶成双\n",
    "print(np.round([1.2, 2.5, 3.7]))  # 1.0 3.0 4.0"
   ],
   "id": "8988f426ed57cc0b",
   "outputs": [
    {
     "name": "stdout",
     "output_type": "stream",
     "text": [
      "[1. 2. 4.]\n"
     ]
    }
   ],
   "execution_count": 404
  },
  {
   "metadata": {
    "ExecuteTime": {
     "end_time": "2025-08-04T15:17:43.268101Z",
     "start_time": "2025-08-04T15:17:43.262280Z"
    }
   },
   "cell_type": "code",
   "source": [
    "# 向上取整，向下取整\n",
    "print(np.ceil([1.2, 2.5, 3.7]))  # 2.0 3.0 4.0\n",
    "print(np.floor([1.2, 2.5, 3.7]))  # 1.0 2.0 3.0"
   ],
   "id": "843d88d93dc6e195",
   "outputs": [
    {
     "name": "stdout",
     "output_type": "stream",
     "text": [
      "[2. 3. 4.]\n",
      "[1. 2. 3.]\n"
     ]
    }
   ],
   "execution_count": 405
  },
  {
   "metadata": {
    "ExecuteTime": {
     "end_time": "2025-08-04T15:17:43.276436Z",
     "start_time": "2025-08-04T15:17:43.272452Z"
    }
   },
   "cell_type": "code",
   "source": [
    "# 检测是否为NaN\n",
    "print(np.isnan([1, np.nan, 3]))  # False True False"
   ],
   "id": "65144759af940179",
   "outputs": [
    {
     "name": "stdout",
     "output_type": "stream",
     "text": [
      "[False  True False]\n"
     ]
    }
   ],
   "execution_count": 406
  },
  {
   "metadata": {},
   "cell_type": "markdown",
   "source": "# 2. 统计函数",
   "id": "2dbddfcac36497be"
  },
  {
   "metadata": {
    "ExecuteTime": {
     "end_time": "2025-08-04T15:17:43.280964Z",
     "start_time": "2025-08-04T15:17:43.276436Z"
    }
   },
   "cell_type": "code",
   "source": [
    "arr = np.random.randint(1, 10, (3, 4))\n",
    "print(arr)"
   ],
   "id": "281e55dbefa308aa",
   "outputs": [
    {
     "name": "stdout",
     "output_type": "stream",
     "text": [
      "[[4 1 9 1]\n",
      " [8 2 3 2]\n",
      " [9 4 3 1]]\n"
     ]
    }
   ],
   "execution_count": 407
  },
  {
   "metadata": {
    "ExecuteTime": {
     "end_time": "2025-08-04T15:17:43.285078Z",
     "start_time": "2025-08-04T15:17:43.280964Z"
    }
   },
   "cell_type": "code",
   "source": [
    "# 求和\n",
    "print(np.sum(arr))  # 所有元素之和"
   ],
   "id": "7b88bc4d255235af",
   "outputs": [
    {
     "name": "stdout",
     "output_type": "stream",
     "text": [
      "47\n"
     ]
    }
   ],
   "execution_count": 408
  },
  {
   "metadata": {
    "ExecuteTime": {
     "end_time": "2025-08-04T15:17:43.291160Z",
     "start_time": "2025-08-04T15:17:43.285078Z"
    }
   },
   "cell_type": "code",
   "source": [
    "# 按轴求和\n",
    "print(np.sum(arr, axis=0))  # 按列求和\n",
    "print(np.sum(arr, axis=1))  # 按行求和"
   ],
   "id": "75e0d4eb6dc65435",
   "outputs": [
    {
     "name": "stdout",
     "output_type": "stream",
     "text": [
      "[21  7 15  4]\n",
      "[15 15 17]\n"
     ]
    }
   ],
   "execution_count": 409
  },
  {
   "metadata": {
    "ExecuteTime": {
     "end_time": "2025-08-04T15:17:43.308976Z",
     "start_time": "2025-08-04T15:17:43.305668Z"
    }
   },
   "cell_type": "code",
   "source": [
    "# 求均值\n",
    "print(np.mean(arr))  # 所有元素的平均值"
   ],
   "id": "42bc3cc6e1006ff7",
   "outputs": [
    {
     "name": "stdout",
     "output_type": "stream",
     "text": [
      "3.9166666666666665\n"
     ]
    }
   ],
   "execution_count": 410
  },
  {
   "metadata": {
    "ExecuteTime": {
     "end_time": "2025-08-04T15:17:43.330165Z",
     "start_time": "2025-08-04T15:17:43.325136Z"
    }
   },
   "cell_type": "code",
   "source": [
    "# 按轴求均值\n",
    "print(np.mean(arr, axis=0))  # 按列求均值\n",
    "print(np.mean(arr, axis=1))  # 按行求均值"
   ],
   "id": "3709d72d15f80f01",
   "outputs": [
    {
     "name": "stdout",
     "output_type": "stream",
     "text": [
      "[7.         2.33333333 5.         1.33333333]\n",
      "[3.75 3.75 4.25]\n"
     ]
    }
   ],
   "execution_count": 411
  },
  {
   "metadata": {
    "ExecuteTime": {
     "end_time": "2025-08-04T15:17:43.360355Z",
     "start_time": "2025-08-04T15:17:43.355848Z"
    }
   },
   "cell_type": "code",
   "source": [
    "# 求中位数\n",
    "print(np.median(arr))  # 所有元素的中位数"
   ],
   "id": "3014ada0bfe9e32c",
   "outputs": [
    {
     "name": "stdout",
     "output_type": "stream",
     "text": [
      "3.0\n"
     ]
    }
   ],
   "execution_count": 412
  },
  {
   "metadata": {
    "ExecuteTime": {
     "end_time": "2025-08-04T15:17:43.371238Z",
     "start_time": "2025-08-04T15:17:43.367573Z"
    }
   },
   "cell_type": "code",
   "source": [
    "# 计算标准差、方差 (离散程度)\n",
    "print(np.std([1, 2, 3]))  # 所有元素的标准差 ((1-2)^2 + (2-2)^2 + (3-2)^2) / 3 \n",
    "print(np.var([1, 2, 3]))  # 所有元素的方差 上面的结果开根号"
   ],
   "id": "5565a2286efb4115",
   "outputs": [
    {
     "name": "stdout",
     "output_type": "stream",
     "text": [
      "0.816496580927726\n",
      "0.6666666666666666\n"
     ]
    }
   ],
   "execution_count": 413
  },
  {
   "metadata": {
    "ExecuteTime": {
     "end_time": "2025-08-04T15:17:43.376207Z",
     "start_time": "2025-08-04T15:17:43.372759Z"
    }
   },
   "cell_type": "code",
   "source": [
    "# 计算最大值、最小值\n",
    "print(np.max(arr), np.argmax(arr))  # 所有元素的最大值, 最大值的索引\n",
    "print(np.min(arr), np.argmin(arr))  # 所有元素的最小值, 最小值的索引"
   ],
   "id": "1c3a16592df62a70",
   "outputs": [
    {
     "name": "stdout",
     "output_type": "stream",
     "text": [
      "9 2\n",
      "1 1\n"
     ]
    }
   ],
   "execution_count": 414
  },
  {
   "metadata": {
    "ExecuteTime": {
     "end_time": "2025-08-04T15:17:43.380431Z",
     "start_time": "2025-08-04T15:17:43.376207Z"
    }
   },
   "cell_type": "code",
   "source": [
    "# 分位数 \n",
    "print(np.percentile(arr, 25))  # 25%分位数"
   ],
   "id": "7c619d87dbd10a37",
   "outputs": [
    {
     "name": "stdout",
     "output_type": "stream",
     "text": [
      "1.75\n"
     ]
    }
   ],
   "execution_count": 415
  },
  {
   "metadata": {
    "ExecuteTime": {
     "end_time": "2025-08-04T15:17:43.389703Z",
     "start_time": "2025-08-04T15:17:43.383390Z"
    }
   },
   "cell_type": "code",
   "source": [
    "# 计算累积和,累积积\n",
    "print(np.cumsum([1, 2, 3, 4]))  # 1 3 6 10\n",
    "print(np.cumprod([1, 2, 3, 4]))  # 1 2 6 24"
   ],
   "id": "d77f68a095e7afc4",
   "outputs": [
    {
     "name": "stdout",
     "output_type": "stream",
     "text": [
      "[ 1  3  6 10]\n",
      "[ 1  2  6 24]\n"
     ]
    }
   ],
   "execution_count": 416
  },
  {
   "metadata": {},
   "cell_type": "markdown",
   "source": "# 3.比较函数",
   "id": "9c9a027198a3c86b"
  },
  {
   "metadata": {
    "ExecuteTime": {
     "end_time": "2025-08-04T15:17:43.409028Z",
     "start_time": "2025-08-04T15:17:43.404397Z"
    }
   },
   "cell_type": "code",
   "source": [
    "# 是否大于\n",
    "print(np.greater([1, 2, 3], [0, 2, 1]))  # [ True False  True]\n",
    "print(np.greater([1, 2, 3], 2))  # [False False  True]\n",
    "\n",
    "# 是否小于\n",
    "print(np.less([1, 2, 3], [0, 2, 1]))  # [False False False]\n",
    "print(np.less([1, 2, 3], 2))  # [ True False False]\n",
    "\n",
    "# 是否等于\n",
    "print(np.equal([1, 2, 3], [0, 2, 1]))  # [False  True False]\n",
    "# 是否不等于\n",
    "print(np.not_equal([1, 2, 3], [0, 2, 1]))  # [ True False  True]"
   ],
   "id": "12ed3790a679b930",
   "outputs": [
    {
     "name": "stdout",
     "output_type": "stream",
     "text": [
      "[ True False  True]\n",
      "[False False  True]\n",
      "[False False False]\n",
      "[ True False False]\n",
      "[False  True False]\n",
      "[ True False  True]\n"
     ]
    }
   ],
   "execution_count": 417
  },
  {
   "metadata": {
    "ExecuteTime": {
     "end_time": "2025-08-04T15:17:43.418683Z",
     "start_time": "2025-08-04T15:17:43.412448Z"
    }
   },
   "cell_type": "code",
   "source": [
    "# 逻辑与\n",
    "print(np.logical_and([1, 0], [1, 1]))  # [ True False]\n",
    "# 逻辑或\n",
    "print(np.logical_or([1, 0], [1, 1]))  # [ True  True]\n",
    "# 逻辑非\n",
    "print(np.logical_not([1, 0]))  # [False  True]"
   ],
   "id": "b3d653a0a15c406a",
   "outputs": [
    {
     "name": "stdout",
     "output_type": "stream",
     "text": [
      "[ True False]\n",
      "[ True  True]\n",
      "[False  True]\n"
     ]
    }
   ],
   "execution_count": 418
  },
  {
   "metadata": {
    "ExecuteTime": {
     "end_time": "2025-08-04T15:17:43.423214Z",
     "start_time": "2025-08-04T15:17:43.418683Z"
    }
   },
   "cell_type": "code",
   "source": [
    "# 检查元素是否至少有一个为True\n",
    "print(np.any([0, 1, 0]))  # True\n",
    "# 检查元素是否全部为True\n",
    "print(np.all([0, 1, 0]))  # False"
   ],
   "id": "50900b4bc1b3b97e",
   "outputs": [
    {
     "name": "stdout",
     "output_type": "stream",
     "text": [
      "True\n",
      "False\n"
     ]
    }
   ],
   "execution_count": 419
  },
  {
   "metadata": {
    "ExecuteTime": {
     "end_time": "2025-08-04T15:17:43.431656Z",
     "start_time": "2025-08-04T15:17:43.424694Z"
    }
   },
   "cell_type": "code",
   "source": [
    "# 自定义条件\n",
    "def custom_condition(x):\n",
    "    return x > 2\n",
    "\n",
    "\n",
    "# 使用自定义条件\n",
    "print(np.frompyfunc(custom_condition, 1, 1)([1, 2, 3, 4]))  # [False False True True]\n",
    "\n",
    "print(np.where(np.array([1, 2, 3, 4]) > 2, '大于2', '小于等于2'))  # ['小于等于2' '小于等于2' '大于2' '大于2']\n",
    "\n",
    "score = np.array([90, 80, 70, 60, 50, 40])\n",
    "print(np.where(score >= 60, '及格', '不及格'))  # ['及格' '及格' '及格' '及格' '不及格' '不及格']"
   ],
   "id": "fa932c8331a8cf81",
   "outputs": [
    {
     "name": "stdout",
     "output_type": "stream",
     "text": [
      "[False False True True]\n",
      "['小于等于2' '小于等于2' '大于2' '大于2']\n",
      "['及格' '及格' '及格' '及格' '不及格' '不及格']\n"
     ]
    }
   ],
   "execution_count": 420
  },
  {
   "metadata": {
    "ExecuteTime": {
     "end_time": "2025-08-04T15:17:46.780513Z",
     "start_time": "2025-08-04T15:17:46.774345Z"
    }
   },
   "cell_type": "code",
   "source": [
    "print(np.where(\n",
    "    score < 60, '不及格', np.where(\n",
    "        score < 80, '良好','优秀'\n",
    "    )\n",
    "))"
   ],
   "id": "68a62df49dcb9f3e",
   "outputs": [
    {
     "name": "stdout",
     "output_type": "stream",
     "text": [
      "['优秀' '优秀' '良好' '良好' '不及格' '不及格']\n"
     ]
    }
   ],
   "execution_count": 422
  },
  {
   "metadata": {
    "ExecuteTime": {
     "end_time": "2025-08-04T15:18:06.545060Z",
     "start_time": "2025-08-04T15:18:06.539007Z"
    }
   },
   "cell_type": "code",
   "source": [
    "# np.select(条件, 结果, default=默认值) \n",
    "print(np.select(\n",
    "    [score < 60, score < 80],\n",
    "    ['不及格', '良好'],\n",
    "    default='优秀'\n",
    "))  # ['不及格' '良好' '良好' '优秀' '优秀' '优秀']"
   ],
   "id": "29c321a172728c50",
   "outputs": [
    {
     "name": "stdout",
     "output_type": "stream",
     "text": [
      "['优秀' '优秀' '良好' '良好' '不及格' '不及格']\n"
     ]
    }
   ],
   "execution_count": 423
  },
  {
   "metadata": {},
   "cell_type": "markdown",
   "source": "# 4. 排序函数",
   "id": "b9e789d5df6a01fc"
  },
  {
   "metadata": {
    "ExecuteTime": {
     "end_time": "2025-08-04T15:22:07.722414Z",
     "start_time": "2025-08-04T15:22:07.717228Z"
    }
   },
   "cell_type": "code",
   "source": [
    "np.random.seed(0)\n",
    "arr = np.random.randint(1, 100, (3, 4))\n",
    "print(arr)\n",
    "# arr.sort()  # 按行排序\n",
    "print(np.argsort(arr))  # 返回排序后的索引\n",
    "print(arr) "
   ],
   "id": "570ec54d3770f186",
   "outputs": [
    {
     "name": "stdout",
     "output_type": "stream",
     "text": [
      "[[45 48 65 68]\n",
      " [68 10 84 22]\n",
      " [37 88 71 89]]\n",
      "[[0 1 2 3]\n",
      " [1 3 0 2]\n",
      " [0 2 1 3]]\n",
      "[[45 48 65 68]\n",
      " [68 10 84 22]\n",
      " [37 88 71 89]]\n"
     ]
    }
   ],
   "execution_count": 427
  },
  {
   "metadata": {
    "ExecuteTime": {
     "end_time": "2025-08-04T15:20:32.008239Z",
     "start_time": "2025-08-04T15:20:31.999234Z"
    }
   },
   "cell_type": "code",
   "source": [
    "# 按列排序\n",
    "arr = np.random.randint(1, 100, (3, 4))\n",
    "print(arr)\n",
    "arr.sort(axis=0)  # 按列排序\n",
    "print(arr) "
   ],
   "id": "483550b5ee6dac76",
   "outputs": [
    {
     "name": "stdout",
     "output_type": "stream",
     "text": [
      "[[89 13 59 66]\n",
      " [40 88 47 89]\n",
      " [82 38 26 78]]\n",
      "[[40 13 26 66]\n",
      " [82 38 47 78]\n",
      " [89 88 59 89]]\n"
     ]
    }
   ],
   "execution_count": 425
  },
  {
   "metadata": {
    "ExecuteTime": {
     "end_time": "2025-08-04T15:22:51.506718Z",
     "start_time": "2025-08-04T15:22:51.502943Z"
    }
   },
   "cell_type": "code",
   "source": [
    "# 去重 and 排序\n",
    "arr = np.array([1, 2, 2, 3, 4, 4, 5])\n",
    "unique_arr = np.unique(arr)\n",
    "print(unique_arr)  # [1 2 3 4 5]"
   ],
   "id": "921a83f523aaf221",
   "outputs": [
    {
     "name": "stdout",
     "output_type": "stream",
     "text": [
      "[1 2 3 4 5]\n"
     ]
    }
   ],
   "execution_count": 429
  },
  {
   "metadata": {
    "ExecuteTime": {
     "end_time": "2025-08-04T15:23:47.721075Z",
     "start_time": "2025-08-04T15:23:47.717420Z"
    }
   },
   "cell_type": "code",
   "source": [
    "# 数组的拼接 (一维的可以 使用 np.concatenate)\n",
    "arr1 = np.array([[1, 2], [3, 4]])\n",
    "arr2 = np.array([[5, 6], [7, 8]])\n",
    "# 按行拼接\n",
    "arr_h = np.hstack((arr1, arr2))\n",
    "\n",
    "print(arr_h)  # [[1 2 5 6] [3 4 7 8]]"
   ],
   "id": "c666d8999bd3a48d",
   "outputs": [
    {
     "name": "stdout",
     "output_type": "stream",
     "text": [
      "[[1 2 5 6]\n",
      " [3 4 7 8]]\n"
     ]
    }
   ],
   "execution_count": 430
  },
  {
   "metadata": {},
   "cell_type": "code",
   "outputs": [],
   "execution_count": null,
   "source": [
    "# 按列拼接\n",
    "arr_v = np.vstack((arr1, arr2))\n",
    "print(arr_v)  # [[1 2] [3 4] [5 6] [7 8]]"
   ],
   "id": "4f8401e23161c6b2"
  },
  {
   "metadata": {
    "ExecuteTime": {
     "end_time": "2025-08-04T15:25:53.533418Z",
     "start_time": "2025-08-04T15:25:53.525598Z"
    }
   },
   "cell_type": "code",
   "source": [
    "# 调整数组形状\n",
    "arr = np.arange(12)\n",
    "print(arr)  # [0 1 2 3 4 5 6 7 8 9 10 11]\n",
    "# 调整为2行6列\n",
    "arr_reshaped = arr.reshape(2, 6) \n",
    "print(arr_reshaped)  # [[0 1 2 3 4 5] [6 7 8 9 10 11]]"
   ],
   "id": "48779837728c7869",
   "outputs": [
    {
     "name": "stdout",
     "output_type": "stream",
     "text": [
      "[ 0  1  2  3  4  5  6  7  8  9 10 11]\n",
      "[[ 0  1  2  3  4  5]\n",
      " [ 6  7  8  9 10 11]]\n"
     ]
    }
   ],
   "execution_count": 432
  },
  {
   "metadata": {},
   "cell_type": "code",
   "outputs": [],
   "execution_count": null,
   "source": "",
   "id": "68103bde479b7095"
  }
 ],
 "metadata": {
  "kernelspec": {
   "display_name": "Python 3",
   "language": "python",
   "name": "python3"
  },
  "language_info": {
   "codemirror_mode": {
    "name": "ipython",
    "version": 2
   },
   "file_extension": ".py",
   "mimetype": "text/x-python",
   "name": "python",
   "nbconvert_exporter": "python",
   "pygments_lexer": "ipython2",
   "version": "2.7.6"
  }
 },
 "nbformat": 4,
 "nbformat_minor": 5
}
