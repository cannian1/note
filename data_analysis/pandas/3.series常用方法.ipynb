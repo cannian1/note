{
 "cells": [
  {
   "metadata": {},
   "cell_type": "markdown",
   "source": "# Series 常用方法",
   "id": "8b73151f7d154996"
  },
  {
   "metadata": {
    "ExecuteTime": {
     "end_time": "2025-08-12T14:32:21.517324Z",
     "start_time": "2025-08-12T14:32:21.512891Z"
    }
   },
   "cell_type": "code",
   "source": [
    "import numpy as np\n",
    "import pandas as pd\n",
    "\n",
    "s = pd.Series([10, 2, np.nan, None, 5,7,9], index=['a', 'b', 'c', 'd', 'e','f','g'],name='data')\n",
    "s"
   ],
   "id": "initial_id",
   "outputs": [
    {
     "data": {
      "text/plain": [
       "a    10.0\n",
       "b     2.0\n",
       "c     NaN\n",
       "d     NaN\n",
       "e     5.0\n",
       "f     7.0\n",
       "g     9.0\n",
       "Name: data, dtype: float64"
      ]
     },
     "execution_count": 10,
     "metadata": {},
     "output_type": "execute_result"
    }
   ],
   "execution_count": 10
  },
  {
   "metadata": {
    "ExecuteTime": {
     "end_time": "2025-08-12T14:32:21.534763Z",
     "start_time": "2025-08-12T14:32:21.529844Z"
    }
   },
   "cell_type": "code",
   "source": "s.head(3) # 查看前几行数据(默认5行)",
   "id": "b9ff3c3f6dbfa127",
   "outputs": [
    {
     "data": {
      "text/plain": [
       "a    10.0\n",
       "b     2.0\n",
       "c     NaN\n",
       "Name: data, dtype: float64"
      ]
     },
     "execution_count": 11,
     "metadata": {},
     "output_type": "execute_result"
    }
   ],
   "execution_count": 11
  },
  {
   "metadata": {
    "ExecuteTime": {
     "end_time": "2025-08-12T14:32:21.558538Z",
     "start_time": "2025-08-12T14:32:21.553577Z"
    }
   },
   "cell_type": "code",
   "source": "s.tail(2) # 查看后几行数据(默认5行)",
   "id": "d6e9667956819ed1",
   "outputs": [
    {
     "data": {
      "text/plain": [
       "f    7.0\n",
       "g    9.0\n",
       "Name: data, dtype: float64"
      ]
     },
     "execution_count": 12,
     "metadata": {},
     "output_type": "execute_result"
    }
   ],
   "execution_count": 12
  },
  {
   "metadata": {
    "ExecuteTime": {
     "end_time": "2025-08-12T14:32:21.564723Z",
     "start_time": "2025-08-12T14:32:21.558538Z"
    }
   },
   "cell_type": "code",
   "source": [
    "# 查看所有描述性信息\n",
    "s.describe() # 默认只会显示数值型数据的描述性信息"
   ],
   "id": "16278db081735474",
   "outputs": [
    {
     "data": {
      "text/plain": [
       "count     5.000000\n",
       "mean      6.600000\n",
       "std       3.209361\n",
       "min       2.000000\n",
       "25%       5.000000\n",
       "50%       7.000000\n",
       "75%       9.000000\n",
       "max      10.000000\n",
       "Name: data, dtype: float64"
      ]
     },
     "execution_count": 13,
     "metadata": {},
     "output_type": "execute_result"
    }
   ],
   "execution_count": 13
  },
  {
   "metadata": {
    "ExecuteTime": {
     "end_time": "2025-08-12T14:32:21.569005Z",
     "start_time": "2025-08-12T14:32:21.564723Z"
    }
   },
   "cell_type": "code",
   "source": [
    "# 统计非空值的数量\n",
    "s.count() "
   ],
   "id": "c0bc1cd647b7f2fa",
   "outputs": [
    {
     "data": {
      "text/plain": [
       "np.int64(5)"
      ]
     },
     "execution_count": 14,
     "metadata": {},
     "output_type": "execute_result"
    }
   ],
   "execution_count": 14
  },
  {
   "metadata": {
    "ExecuteTime": {
     "end_time": "2025-08-12T14:33:10.068813Z",
     "start_time": "2025-08-12T14:33:10.064303Z"
    }
   },
   "cell_type": "code",
   "source": [
    "# 获取索引\n",
    "print(s.index) # 属性\n",
    "print(s.keys()) # 方法"
   ],
   "id": "fdaea152eb44e322",
   "outputs": [
    {
     "name": "stdout",
     "output_type": "stream",
     "text": [
      "Index(['a', 'b', 'c', 'd', 'e', 'f', 'g'], dtype='object')\n",
      "Index(['a', 'b', 'c', 'd', 'e', 'f', 'g'], dtype='object')\n"
     ]
    }
   ],
   "execution_count": 15
  },
  {
   "metadata": {
    "ExecuteTime": {
     "end_time": "2025-08-12T14:51:35.581792Z",
     "start_time": "2025-08-12T14:51:35.572306Z"
    }
   },
   "cell_type": "code",
   "source": "s.isna() # 判断每个元素是否为缺失值",
   "id": "4ec35d14f01987aa",
   "outputs": [
    {
     "data": {
      "text/plain": [
       "a    False\n",
       "b    False\n",
       "c     True\n",
       "d     True\n",
       "e    False\n",
       "f    False\n",
       "g    False\n",
       "Name: data, dtype: bool"
      ]
     },
     "execution_count": 16,
     "metadata": {},
     "output_type": "execute_result"
    }
   ],
   "execution_count": 16
  },
  {
   "metadata": {
    "ExecuteTime": {
     "end_time": "2025-08-12T14:51:41.903638Z",
     "start_time": "2025-08-12T14:51:41.899402Z"
    }
   },
   "cell_type": "code",
   "source": "s.isnull() # 判断每个元素是否为缺失值，isna()和isnull()等价",
   "id": "c603229c7eb78c27",
   "outputs": [
    {
     "data": {
      "text/plain": [
       "a    False\n",
       "b    False\n",
       "c     True\n",
       "d     True\n",
       "e    False\n",
       "f    False\n",
       "g    False\n",
       "Name: data, dtype: bool"
      ]
     },
     "execution_count": 17,
     "metadata": {},
     "output_type": "execute_result"
    }
   ],
   "execution_count": 17
  },
  {
   "metadata": {
    "ExecuteTime": {
     "end_time": "2025-08-12T14:58:03.647149Z",
     "start_time": "2025-08-12T14:58:03.641038Z"
    }
   },
   "cell_type": "code",
   "source": "s.isin([10, 2, 5]) # 判断每个元素是否在指定的列表中",
   "id": "52a1f26bccec903b",
   "outputs": [
    {
     "data": {
      "text/plain": [
       "a     True\n",
       "b     True\n",
       "c    False\n",
       "d    False\n",
       "e     True\n",
       "f    False\n",
       "g    False\n",
       "Name: data, dtype: bool"
      ]
     },
     "execution_count": 18,
     "metadata": {},
     "output_type": "execute_result"
    }
   ],
   "execution_count": 18
  },
  {
   "metadata": {
    "ExecuteTime": {
     "end_time": "2025-08-12T14:59:14.236846Z",
     "start_time": "2025-08-12T14:59:14.233581Z"
    }
   },
   "cell_type": "code",
   "source": "s.mean() # 计算均值",
   "id": "23a1fb7925591954",
   "outputs": [
    {
     "data": {
      "text/plain": [
       "np.float64(6.6)"
      ]
     },
     "execution_count": 19,
     "metadata": {},
     "output_type": "execute_result"
    }
   ],
   "execution_count": 19
  },
  {
   "metadata": {
    "ExecuteTime": {
     "end_time": "2025-08-12T14:59:17.673215Z",
     "start_time": "2025-08-12T14:59:17.668311Z"
    }
   },
   "cell_type": "code",
   "source": "s.median() # 计算中位数",
   "id": "8a02edf88f6c395f",
   "outputs": [
    {
     "data": {
      "text/plain": [
       "7.0"
      ]
     },
     "execution_count": 20,
     "metadata": {},
     "output_type": "execute_result"
    }
   ],
   "execution_count": 20
  },
  {
   "metadata": {
    "ExecuteTime": {
     "end_time": "2025-08-12T14:59:19.971002Z",
     "start_time": "2025-08-12T14:59:19.967247Z"
    }
   },
   "cell_type": "code",
   "source": "s.std() # 计算标准差",
   "id": "3df91c7e67452d0c",
   "outputs": [
    {
     "data": {
      "text/plain": [
       "3.2093613071762426"
      ]
     },
     "execution_count": 21,
     "metadata": {},
     "output_type": "execute_result"
    }
   ],
   "execution_count": 21
  },
  {
   "metadata": {
    "ExecuteTime": {
     "end_time": "2025-08-12T14:59:23.119591Z",
     "start_time": "2025-08-12T14:59:23.115648Z"
    }
   },
   "cell_type": "code",
   "source": "s.var() # 计算方差",
   "id": "e8cdb3222b5910cf",
   "outputs": [
    {
     "data": {
      "text/plain": [
       "10.3"
      ]
     },
     "execution_count": 22,
     "metadata": {},
     "output_type": "execute_result"
    }
   ],
   "execution_count": 22
  },
  {
   "metadata": {
    "ExecuteTime": {
     "end_time": "2025-08-12T14:59:25.375049Z",
     "start_time": "2025-08-12T14:59:25.371853Z"
    }
   },
   "cell_type": "code",
   "source": "s.min() # 计算最小值",
   "id": "fc8e73cd6a5013cb",
   "outputs": [
    {
     "data": {
      "text/plain": [
       "2.0"
      ]
     },
     "execution_count": 23,
     "metadata": {},
     "output_type": "execute_result"
    }
   ],
   "execution_count": 23
  },
  {
   "metadata": {
    "ExecuteTime": {
     "end_time": "2025-08-12T14:59:27.619314Z",
     "start_time": "2025-08-12T14:59:27.615082Z"
    }
   },
   "cell_type": "code",
   "source": "s.max() # 计算最大值",
   "id": "e7d337f5615d9011",
   "outputs": [
    {
     "data": {
      "text/plain": [
       "10.0"
      ]
     },
     "execution_count": 24,
     "metadata": {},
     "output_type": "execute_result"
    }
   ],
   "execution_count": 24
  },
  {
   "metadata": {
    "ExecuteTime": {
     "end_time": "2025-08-12T14:59:29.712157Z",
     "start_time": "2025-08-12T14:59:29.708643Z"
    }
   },
   "cell_type": "code",
   "source": "s.sum() # 计算总和",
   "id": "96da43b481afaa55",
   "outputs": [
    {
     "data": {
      "text/plain": [
       "np.float64(33.0)"
      ]
     },
     "execution_count": 25,
     "metadata": {},
     "output_type": "execute_result"
    }
   ],
   "execution_count": 25
  },
  {
   "metadata": {
    "ExecuteTime": {
     "end_time": "2025-08-12T14:59:31.454648Z",
     "start_time": "2025-08-12T14:59:31.450594Z"
    }
   },
   "cell_type": "code",
   "source": "s.prod() # 计算积",
   "id": "cd789d9a70483726",
   "outputs": [
    {
     "data": {
      "text/plain": [
       "np.float64(6300.0)"
      ]
     },
     "execution_count": 26,
     "metadata": {},
     "output_type": "execute_result"
    }
   ],
   "execution_count": 26
  },
  {
   "metadata": {
    "ExecuteTime": {
     "end_time": "2025-08-12T14:59:33.534660Z",
     "start_time": "2025-08-12T14:59:33.529487Z"
    }
   },
   "cell_type": "code",
   "source": "s.cumsum() # 计算累积和",
   "id": "1927c16201053d42",
   "outputs": [
    {
     "data": {
      "text/plain": [
       "a    10.0\n",
       "b    12.0\n",
       "c     NaN\n",
       "d     NaN\n",
       "e    17.0\n",
       "f    24.0\n",
       "g    33.0\n",
       "Name: data, dtype: float64"
      ]
     },
     "execution_count": 27,
     "metadata": {},
     "output_type": "execute_result"
    }
   ],
   "execution_count": 27
  },
  {
   "metadata": {
    "ExecuteTime": {
     "end_time": "2025-08-12T14:59:35.386967Z",
     "start_time": "2025-08-12T14:59:35.382372Z"
    }
   },
   "cell_type": "code",
   "source": "s.cumprod() # 计算累积积",
   "id": "c49c2c34fa616f81",
   "outputs": [
    {
     "data": {
      "text/plain": [
       "a      10.0\n",
       "b      20.0\n",
       "c       NaN\n",
       "d       NaN\n",
       "e     100.0\n",
       "f     700.0\n",
       "g    6300.0\n",
       "Name: data, dtype: float64"
      ]
     },
     "execution_count": 28,
     "metadata": {},
     "output_type": "execute_result"
    }
   ],
   "execution_count": 28
  },
  {
   "metadata": {
    "ExecuteTime": {
     "end_time": "2025-08-12T14:59:37.343304Z",
     "start_time": "2025-08-12T14:59:37.339050Z"
    }
   },
   "cell_type": "code",
   "source": "s.unique() # 获取唯一值",
   "id": "21fc924426a8b781",
   "outputs": [
    {
     "data": {
      "text/plain": [
       "array([10.,  2., nan,  5.,  7.,  9.])"
      ]
     },
     "execution_count": 29,
     "metadata": {},
     "output_type": "execute_result"
    }
   ],
   "execution_count": 29
  },
  {
   "metadata": {
    "ExecuteTime": {
     "end_time": "2025-08-12T14:59:40.320374Z",
     "start_time": "2025-08-12T14:59:40.315635Z"
    }
   },
   "cell_type": "code",
   "source": "s.value_counts() # 统计每个值的出现次数 (默认降序排列)",
   "id": "7e9cdf4b7fb5c036",
   "outputs": [
    {
     "data": {
      "text/plain": [
       "data\n",
       "10.0    1\n",
       "2.0     1\n",
       "5.0     1\n",
       "7.0     1\n",
       "9.0     1\n",
       "Name: count, dtype: int64"
      ]
     },
     "execution_count": 30,
     "metadata": {},
     "output_type": "execute_result"
    }
   ],
   "execution_count": 30
  },
  {
   "metadata": {
    "ExecuteTime": {
     "end_time": "2025-08-12T14:59:42.516801Z",
     "start_time": "2025-08-12T14:59:42.512127Z"
    }
   },
   "cell_type": "code",
   "source": "s.sort_values() # 按值排序",
   "id": "625fb4dbe031f110",
   "outputs": [
    {
     "data": {
      "text/plain": [
       "b     2.0\n",
       "e     5.0\n",
       "f     7.0\n",
       "g     9.0\n",
       "a    10.0\n",
       "c     NaN\n",
       "d     NaN\n",
       "Name: data, dtype: float64"
      ]
     },
     "execution_count": 31,
     "metadata": {},
     "output_type": "execute_result"
    }
   ],
   "execution_count": 31
  },
  {
   "metadata": {
    "ExecuteTime": {
     "end_time": "2025-08-12T14:59:45.252481Z",
     "start_time": "2025-08-12T14:59:45.248094Z"
    }
   },
   "cell_type": "code",
   "source": "s.sort_index() # 按索引排序",
   "id": "5c2c82b65e177e1c",
   "outputs": [
    {
     "data": {
      "text/plain": [
       "a    10.0\n",
       "b     2.0\n",
       "c     NaN\n",
       "d     NaN\n",
       "e     5.0\n",
       "f     7.0\n",
       "g     9.0\n",
       "Name: data, dtype: float64"
      ]
     },
     "execution_count": 32,
     "metadata": {},
     "output_type": "execute_result"
    }
   ],
   "execution_count": 32
  },
  {
   "metadata": {
    "ExecuteTime": {
     "end_time": "2025-08-12T14:59:48.331177Z",
     "start_time": "2025-08-12T14:59:48.325755Z"
    }
   },
   "cell_type": "code",
   "source": "s.nlargest(3) # 获取前3个最大值",
   "id": "3084e52721b43d7b",
   "outputs": [
    {
     "data": {
      "text/plain": [
       "a    10.0\n",
       "g     9.0\n",
       "f     7.0\n",
       "Name: data, dtype: float64"
      ]
     },
     "execution_count": 33,
     "metadata": {},
     "output_type": "execute_result"
    }
   ],
   "execution_count": 33
  },
  {
   "metadata": {
    "ExecuteTime": {
     "end_time": "2025-08-12T14:59:50.167752Z",
     "start_time": "2025-08-12T14:59:50.162672Z"
    }
   },
   "cell_type": "code",
   "source": "s.nsmallest(3) # 获取前3个最小值",
   "id": "e61bce4ceca2f679",
   "outputs": [
    {
     "data": {
      "text/plain": [
       "b    2.0\n",
       "e    5.0\n",
       "f    7.0\n",
       "Name: data, dtype: float64"
      ]
     },
     "execution_count": 34,
     "metadata": {},
     "output_type": "execute_result"
    }
   ],
   "execution_count": 34
  },
  {
   "metadata": {
    "ExecuteTime": {
     "end_time": "2025-08-12T14:59:55.703211Z",
     "start_time": "2025-08-12T14:59:55.672488Z"
    }
   },
   "cell_type": "code",
   "source": [
    "# 计算相关系数\n",
    "s.corr(s) # 计算与自身的相关系数，结果为1"
   ],
   "id": "e25a696e26f9dc21",
   "outputs": [
    {
     "data": {
      "text/plain": [
       "np.float64(1.0)"
      ]
     },
     "execution_count": 35,
     "metadata": {},
     "output_type": "execute_result"
    }
   ],
   "execution_count": 35
  },
  {
   "metadata": {
    "ExecuteTime": {
     "end_time": "2025-08-12T15:00:01.171202Z",
     "start_time": "2025-08-12T15:00:01.167185Z"
    }
   },
   "cell_type": "code",
   "source": [
    "# 计算协方差\n",
    "s.cov(s) # 计算与自身的协方差，结果为方差"
   ],
   "id": "b2c6f58efb5a7037",
   "outputs": [
    {
     "data": {
      "text/plain": [
       "np.float64(10.3)"
      ]
     },
     "execution_count": 36,
     "metadata": {},
     "output_type": "execute_result"
    }
   ],
   "execution_count": 36
  },
  {
   "metadata": {
    "ExecuteTime": {
     "end_time": "2025-08-12T15:01:41.106008Z",
     "start_time": "2025-08-12T15:01:41.101212Z"
    }
   },
   "cell_type": "code",
   "source": "s.quantile(0.2) # 计算分位数，0.2表示20%的分位数",
   "id": "671c520e8c9bbec3",
   "outputs": [
    {
     "data": {
      "text/plain": [
       "np.float64(4.4)"
      ]
     },
     "execution_count": 40,
     "metadata": {},
     "output_type": "execute_result"
    }
   ],
   "execution_count": 40
  },
  {
   "metadata": {
    "ExecuteTime": {
     "end_time": "2025-08-12T15:04:54.849979Z",
     "start_time": "2025-08-12T15:04:54.845461Z"
    }
   },
   "cell_type": "code",
   "source": [
    "s['h'] = 9\n",
    "s.mode() # 计算众数，返回Series"
   ],
   "id": "3f47ceaf699299f3",
   "outputs": [
    {
     "data": {
      "text/plain": [
       "0    9.0\n",
       "Name: data, dtype: float64"
      ]
     },
     "execution_count": 42,
     "metadata": {},
     "output_type": "execute_result"
    }
   ],
   "execution_count": 42
  },
  {
   "metadata": {
    "ExecuteTime": {
     "end_time": "2025-08-12T15:06:06.338346Z",
     "start_time": "2025-08-12T15:06:06.333882Z"
    }
   },
   "cell_type": "code",
   "source": "s.drop_duplicates() # 删除重复值，保留第一个出现的值",
   "id": "6221f4898dd096a7",
   "outputs": [
    {
     "data": {
      "text/plain": [
       "a    10.0\n",
       "b     2.0\n",
       "c     NaN\n",
       "e     5.0\n",
       "f     7.0\n",
       "g     9.0\n",
       "Name: data, dtype: float64"
      ]
     },
     "execution_count": 43,
     "metadata": {},
     "output_type": "execute_result"
    }
   ],
   "execution_count": 43
  },
  {
   "metadata": {
    "ExecuteTime": {
     "end_time": "2025-08-12T15:06:25.812947Z",
     "start_time": "2025-08-12T15:06:25.808613Z"
    }
   },
   "cell_type": "code",
   "source": "s.unique() # 获取唯一值，返回numpy数组",
   "id": "ffa44c7ef3633a11",
   "outputs": [
    {
     "data": {
      "text/plain": [
       "array([10.,  2., nan,  5.,  7.,  9.])"
      ]
     },
     "execution_count": 44,
     "metadata": {},
     "output_type": "execute_result"
    }
   ],
   "execution_count": 44
  },
  {
   "metadata": {
    "ExecuteTime": {
     "end_time": "2025-08-12T15:06:54.749348Z",
     "start_time": "2025-08-12T15:06:54.744808Z"
    }
   },
   "cell_type": "code",
   "source": "s.nunique() # 计算唯一值的数量(去重后元素的数量)",
   "id": "50614ef480829e31",
   "outputs": [
    {
     "data": {
      "text/plain": [
       "5"
      ]
     },
     "execution_count": 45,
     "metadata": {},
     "output_type": "execute_result"
    }
   ],
   "execution_count": 45
  }
 ],
 "metadata": {
  "kernelspec": {
   "display_name": "Python 3",
   "language": "python",
   "name": "python3"
  },
  "language_info": {
   "codemirror_mode": {
    "name": "ipython",
    "version": 2
   },
   "file_extension": ".py",
   "mimetype": "text/x-python",
   "name": "python",
   "nbconvert_exporter": "python",
   "pygments_lexer": "ipython2",
   "version": "2.7.6"
  }
 },
 "nbformat": 4,
 "nbformat_minor": 5
}
