{
 "cells": [
  {
   "cell_type": "markdown",
   "id": "b43b06e7f89b60bc",
   "metadata": {},
   "source": [
    "# DataFrame的属性"
   ]
  },
  {
   "cell_type": "code",
   "id": "initial_id",
   "metadata": {
    "ExecuteTime": {
     "end_time": "2025-08-14T13:55:10.698847Z",
     "start_time": "2025-08-14T13:55:10.692449Z"
    }
   },
   "source": [
    "import pandas as pd\n",
    "\n",
    "data = {\n",
    "    'name': ['Alice', 'Bob', 'Charlie'],\n",
    "    'age': [25, 30, 35],\n",
    "    'city': ['New York', 'Los Angeles', 'Chicago'],\n",
    "    'salary': [70000, 80000, 90000],\n",
    "}\n",
    "\n",
    "df = pd.DataFrame(data)"
   ],
   "outputs": [],
   "execution_count": 17
  },
  {
   "cell_type": "code",
   "id": "44f56bbb",
   "metadata": {
    "ExecuteTime": {
     "end_time": "2025-08-14T13:55:10.707185Z",
     "start_time": "2025-08-14T13:55:10.700432Z"
    }
   },
   "source": [
    "print('行索引:',df.index)\n",
    "print('列标签:',df.columns)\n",
    "print('值:',df.values)\n"
   ],
   "outputs": [
    {
     "name": "stdout",
     "output_type": "stream",
     "text": [
      "行索引: RangeIndex(start=0, stop=3, step=1)\n",
      "列标签: Index(['name', 'age', 'city', 'salary'], dtype='object')\n",
      "值: [['Alice' 25 'New York' 70000]\n",
      " ['Bob' 30 'Los Angeles' 80000]\n",
      " ['Charlie' 35 'Chicago' 90000]]\n"
     ]
    }
   ],
   "execution_count": 18
  },
  {
   "metadata": {
    "ExecuteTime": {
     "end_time": "2025-08-14T13:55:27.379498Z",
     "start_time": "2025-08-14T13:55:27.373314Z"
    }
   },
   "cell_type": "code",
   "source": [
    "print('维度:', df.ndim)\n",
    "print('形状:', df.shape)\n",
    "print('元素个数:', df.size)\n",
    "print('数据类型:', df.dtypes)"
   ],
   "id": "d8d78c7d4e1e6e30",
   "outputs": [
    {
     "name": "stdout",
     "output_type": "stream",
     "text": [
      "维度: 2\n",
      "形状: (3, 4)\n",
      "元素个数: 12\n",
      "数据类型: name      object\n",
      "age        int64\n",
      "city      object\n",
      "salary     int64\n",
      "dtype: object\n"
     ]
    }
   ],
   "execution_count": 20
  },
  {
   "metadata": {
    "ExecuteTime": {
     "end_time": "2025-08-14T13:56:11.619992Z",
     "start_time": "2025-08-14T13:56:11.610355Z"
    }
   },
   "cell_type": "code",
   "source": [
    "# 行列转置\n",
    "df.T"
   ],
   "id": "4b0495c34514a211",
   "outputs": [
    {
     "data": {
      "text/plain": [
       "               0            1        2\n",
       "name       Alice          Bob  Charlie\n",
       "age           25           30       35\n",
       "city    New York  Los Angeles  Chicago\n",
       "salary     70000        80000    90000"
      ],
      "text/html": [
       "<div>\n",
       "<style scoped>\n",
       "    .dataframe tbody tr th:only-of-type {\n",
       "        vertical-align: middle;\n",
       "    }\n",
       "\n",
       "    .dataframe tbody tr th {\n",
       "        vertical-align: top;\n",
       "    }\n",
       "\n",
       "    .dataframe thead th {\n",
       "        text-align: right;\n",
       "    }\n",
       "</style>\n",
       "<table border=\"1\" class=\"dataframe\">\n",
       "  <thead>\n",
       "    <tr style=\"text-align: right;\">\n",
       "      <th></th>\n",
       "      <th>0</th>\n",
       "      <th>1</th>\n",
       "      <th>2</th>\n",
       "    </tr>\n",
       "  </thead>\n",
       "  <tbody>\n",
       "    <tr>\n",
       "      <th>name</th>\n",
       "      <td>Alice</td>\n",
       "      <td>Bob</td>\n",
       "      <td>Charlie</td>\n",
       "    </tr>\n",
       "    <tr>\n",
       "      <th>age</th>\n",
       "      <td>25</td>\n",
       "      <td>30</td>\n",
       "      <td>35</td>\n",
       "    </tr>\n",
       "    <tr>\n",
       "      <th>city</th>\n",
       "      <td>New York</td>\n",
       "      <td>Los Angeles</td>\n",
       "      <td>Chicago</td>\n",
       "    </tr>\n",
       "    <tr>\n",
       "      <th>salary</th>\n",
       "      <td>70000</td>\n",
       "      <td>80000</td>\n",
       "      <td>90000</td>\n",
       "    </tr>\n",
       "  </tbody>\n",
       "</table>\n",
       "</div>"
      ]
     },
     "execution_count": 22,
     "metadata": {},
     "output_type": "execute_result"
    }
   ],
   "execution_count": 22
  },
  {
   "metadata": {
    "ExecuteTime": {
     "end_time": "2025-08-14T13:59:47.289123Z",
     "start_time": "2025-08-14T13:59:47.283557Z"
    }
   },
   "cell_type": "code",
   "source": [
    "# 获取元素 loc iloc at iat\n",
    "print('某行:')\n",
    "print(df.loc[0])  # 使用标签索引\n",
    "print('某行:')\n",
    "print(df.iloc[0])  # 使用位置索引"
   ],
   "id": "d98fe86122446957",
   "outputs": [
    {
     "name": "stdout",
     "output_type": "stream",
     "text": [
      "某行:\n",
      "name         Alice\n",
      "age             25\n",
      "city      New York\n",
      "salary       70000\n",
      "Name: 0, dtype: object\n",
      "某行:\n",
      "name         Alice\n",
      "age             25\n",
      "city      New York\n",
      "salary       70000\n",
      "Name: 0, dtype: object\n"
     ]
    }
   ],
   "execution_count": 26
  },
  {
   "metadata": {
    "ExecuteTime": {
     "end_time": "2025-08-14T14:01:16.623842Z",
     "start_time": "2025-08-14T14:01:16.617978Z"
    }
   },
   "cell_type": "code",
   "source": [
    "print('某列:')\n",
    "print(df['name'])  # 使用列标签\n",
    "\n",
    "print('某列:')\n",
    "print(df.loc[:, 'name'])  # 使用标签索引\n",
    "\n",
    "print('某列:')\n",
    "print(df.iloc[:, 0])  # 使用位置索引"
   ],
   "id": "4b14ce4321a4b12e",
   "outputs": [
    {
     "name": "stdout",
     "output_type": "stream",
     "text": [
      "某列:\n",
      "0      Alice\n",
      "1        Bob\n",
      "2    Charlie\n",
      "Name: name, dtype: object\n",
      "0      Alice\n",
      "1        Bob\n",
      "2    Charlie\n",
      "Name: name, dtype: object\n",
      "某列:\n",
      "0      Alice\n",
      "1        Bob\n",
      "2    Charlie\n",
      "Name: name, dtype: object\n"
     ]
    }
   ],
   "execution_count": 28
  },
  {
   "metadata": {
    "ExecuteTime": {
     "end_time": "2025-08-14T14:02:05.678430Z",
     "start_time": "2025-08-14T14:02:05.670259Z"
    }
   },
   "cell_type": "code",
   "source": [
    "# 获取单个元素\n",
    "print('单个元素:')\n",
    "print(df.at[0, 'name'])  # 使用标签索引\n",
    "print('单个元素:')\n",
    "print(df.iat[0, 0])  # 使用位置索引"
   ],
   "id": "32ece57b795c6dfa",
   "outputs": [
    {
     "name": "stdout",
     "output_type": "stream",
     "text": [
      "单个元素:\n",
      "Alice\n",
      "单个元素:\n",
      "Alice\n"
     ]
    }
   ],
   "execution_count": 29
  },
  {
   "metadata": {
    "ExecuteTime": {
     "end_time": "2025-08-14T14:05:24.945527Z",
     "start_time": "2025-08-14T14:05:24.940473Z"
    }
   },
   "cell_type": "code",
   "source": [
    "# 获取多行多列\n",
    "print('多行多列:')\n",
    "print(df.loc[0:1, ['name', 'age']])  # 使用标签索引\n",
    "print('多行多列:')\n",
    "print(df.iloc[0:2, 0:2])  # 使用位置索引"
   ],
   "id": "81525bd91a20727d",
   "outputs": [
    {
     "name": "stdout",
     "output_type": "stream",
     "text": [
      "多行多列:\n",
      "<class 'pandas.core.frame.DataFrame'>\n",
      "多行多列:\n",
      "    name  age\n",
      "0  Alice   25\n",
      "1    Bob   30\n"
     ]
    }
   ],
   "execution_count": 31
  },
  {
   "metadata": {
    "ExecuteTime": {
     "end_time": "2025-08-14T14:21:27.581002Z",
     "start_time": "2025-08-14T14:21:27.575431Z"
    }
   },
   "cell_type": "code",
   "source": [
    "# 多列\n",
    "print('多列:')\n",
    "print(df[['name', 'age']])"
   ],
   "id": "63597221733b5d75",
   "outputs": [
    {
     "name": "stdout",
     "output_type": "stream",
     "text": [
      "多列:\n",
      "      name  age\n",
      "0    Alice   25\n",
      "1      Bob   30\n",
      "2  Charlie   35\n"
     ]
    }
   ],
   "execution_count": 32
  },
  {
   "metadata": {
    "ExecuteTime": {
     "end_time": "2025-08-14T14:21:41.369723Z",
     "start_time": "2025-08-14T14:21:41.357105Z"
    }
   },
   "cell_type": "code",
   "source": [
    "# 条件筛选\n",
    "print('条件筛选:')\n",
    "print(df[df['age'] > 28])"
   ],
   "id": "6faab270d561ee69",
   "outputs": [
    {
     "name": "stdout",
     "output_type": "stream",
     "text": [
      "条件筛选:\n",
      "      name  age         city  salary\n",
      "1      Bob   30  Los Angeles   80000\n",
      "2  Charlie   35      Chicago   90000\n"
     ]
    }
   ],
   "execution_count": 33
  },
  {
   "metadata": {
    "ExecuteTime": {
     "end_time": "2025-08-14T14:21:48.260405Z",
     "start_time": "2025-08-14T14:21:48.255610Z"
    }
   },
   "cell_type": "code",
   "source": [
    "# 多条件筛选\n",
    "print('多条件筛选:')\n",
    "print(df[(df['age'] > 28) & (df['salary'] > 75000)])"
   ],
   "id": "f0f1de188abb186f",
   "outputs": [
    {
     "name": "stdout",
     "output_type": "stream",
     "text": [
      "多条件筛选:\n",
      "      name  age         city  salary\n",
      "1      Bob   30  Los Angeles   80000\n",
      "2  Charlie   35      Chicago   90000\n"
     ]
    }
   ],
   "execution_count": 34
  },
  {
   "metadata": {
    "ExecuteTime": {
     "end_time": "2025-08-14T14:22:13.974187Z",
     "start_time": "2025-08-14T14:22:13.964174Z"
    }
   },
   "cell_type": "code",
   "source": [
    "# head tail\n",
    "print('前两行:')\n",
    "print(df.head(2))\n",
    "print('后两行:')\n",
    "print(df.tail(2))"
   ],
   "id": "d7cd96d6a6a98296",
   "outputs": [
    {
     "name": "stdout",
     "output_type": "stream",
     "text": [
      "前两行:\n",
      "    name  age         city  salary\n",
      "0  Alice   25     New York   70000\n",
      "1    Bob   30  Los Angeles   80000\n",
      "后两行:\n",
      "      name  age         city  salary\n",
      "1      Bob   30  Los Angeles   80000\n",
      "2  Charlie   35      Chicago   90000\n"
     ]
    }
   ],
   "execution_count": 35
  },
  {
   "metadata": {
    "ExecuteTime": {
     "end_time": "2025-08-14T14:22:46.887406Z",
     "start_time": "2025-08-14T14:22:46.882125Z"
    }
   },
   "cell_type": "code",
   "source": [
    "# 随机抽样\n",
    "print('随机抽样:')\n",
    "print(df.sample(2))"
   ],
   "id": "2c96c3c9bd96e089",
   "outputs": [
    {
     "name": "stdout",
     "output_type": "stream",
     "text": [
      "随机抽样:\n",
      "      name  age      city  salary\n",
      "0    Alice   25  New York   70000\n",
      "2  Charlie   35   Chicago   90000\n"
     ]
    }
   ],
   "execution_count": 36
  },
  {
   "metadata": {},
   "cell_type": "code",
   "outputs": [],
   "execution_count": null,
   "source": "",
   "id": "540753d114664d4c"
  }
 ],
 "metadata": {
  "kernelspec": {
   "display_name": "base",
   "language": "python",
   "name": "python3"
  },
  "language_info": {
   "codemirror_mode": {
    "name": "ipython",
    "version": 3
   },
   "file_extension": ".py",
   "mimetype": "text/x-python",
   "name": "python",
   "nbconvert_exporter": "python",
   "pygments_lexer": "ipython3",
   "version": "3.12.9"
  }
 },
 "nbformat": 4,
 "nbformat_minor": 5
}
