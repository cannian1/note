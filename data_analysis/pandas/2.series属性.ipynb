{
 "cells": [
  {
   "metadata": {},
   "cell_type": "markdown",
   "source": "# series属性",
   "id": "e9413682a3f5fd9c"
  },
  {
   "metadata": {
    "ExecuteTime": {
     "end_time": "2025-08-06T14:55:07.639569Z",
     "start_time": "2025-08-06T14:55:07.632531Z"
    }
   },
   "cell_type": "code",
   "source": [
    "import pandas as pd\n",
    "\n",
    "s = pd.Series([1, 2, 3, 4, 5], index=['a', 'b', 'c', 'd', 'e'], name='my_series')"
   ],
   "id": "6daa8492a37171ba",
   "outputs": [],
   "execution_count": 32
  },
  {
   "metadata": {
    "ExecuteTime": {
     "end_time": "2025-08-06T14:55:07.664726Z",
     "start_time": "2025-08-06T14:55:07.658879Z"
    }
   },
   "cell_type": "code",
   "source": [
    "# index\n",
    "print(s.index)"
   ],
   "id": "a746c7c99085df40",
   "outputs": [
    {
     "name": "stdout",
     "output_type": "stream",
     "text": [
      "Index(['a', 'b', 'c', 'd', 'e'], dtype='object')\n"
     ]
    }
   ],
   "execution_count": 33
  },
  {
   "metadata": {
    "ExecuteTime": {
     "end_time": "2025-08-06T14:55:07.676558Z",
     "start_time": "2025-08-06T14:55:07.672153Z"
    }
   },
   "cell_type": "code",
   "source": [
    "# value\n",
    "print(s.values)"
   ],
   "id": "4f79d9c2f05857cb",
   "outputs": [
    {
     "name": "stdout",
     "output_type": "stream",
     "text": [
      "[1 2 3 4 5]\n"
     ]
    }
   ],
   "execution_count": 34
  },
  {
   "metadata": {
    "ExecuteTime": {
     "end_time": "2025-08-06T14:55:07.695761Z",
     "start_time": "2025-08-06T14:55:07.691148Z"
    }
   },
   "cell_type": "code",
   "source": [
    "# shape、ndim、size\n",
    "# series的 shape 是一个元组，表示series的维度,ndim表 series的维度数，size表示 series 中元素的个数\n",
    "\n",
    "print(s.shape, s.ndim, s.size)"
   ],
   "id": "d9f2b12da272b6f0",
   "outputs": [
    {
     "name": "stdout",
     "output_type": "stream",
     "text": [
      "(5,) 1 5\n"
     ]
    }
   ],
   "execution_count": 35
  },
  {
   "metadata": {
    "ExecuteTime": {
     "end_time": "2025-08-06T14:55:07.719210Z",
     "start_time": "2025-08-06T14:55:07.702806Z"
    }
   },
   "cell_type": "code",
   "source": "s.dtype",
   "id": "62806ecc1daebd84",
   "outputs": [
    {
     "data": {
      "text/plain": [
       "dtype('int64')"
      ]
     },
     "execution_count": 36,
     "metadata": {},
     "output_type": "execute_result"
    }
   ],
   "execution_count": 36
  },
  {
   "metadata": {
    "ExecuteTime": {
     "end_time": "2025-08-06T14:55:07.723770Z",
     "start_time": "2025-08-06T14:55:07.719210Z"
    }
   },
   "cell_type": "code",
   "source": "s.name",
   "id": "ded6a55917aa7b37",
   "outputs": [
    {
     "data": {
      "text/plain": [
       "'my_series'"
      ]
     },
     "execution_count": 37,
     "metadata": {},
     "output_type": "execute_result"
    }
   ],
   "execution_count": 37
  },
  {
   "metadata": {
    "ExecuteTime": {
     "end_time": "2025-08-06T14:55:07.728674Z",
     "start_time": "2025-08-06T14:55:07.723770Z"
    }
   },
   "cell_type": "code",
   "source": [
    "# 显式的索引，按标签和标签切片索引\n",
    "print('显式的索引', s.loc['b'])\n",
    "print('支持切片\\n', s['a':'c'])"
   ],
   "id": "1ba15b65501aff39",
   "outputs": [
    {
     "name": "stdout",
     "output_type": "stream",
     "text": [
      "显式的索引 2\n",
      "支持切片\n",
      " a    1\n",
      "b    2\n",
      "c    3\n",
      "Name: my_series, dtype: int64\n"
     ]
    }
   ],
   "execution_count": 38
  },
  {
   "metadata": {
    "ExecuteTime": {
     "end_time": "2025-08-06T14:55:07.738724Z",
     "start_time": "2025-08-06T14:55:07.734545Z"
    }
   },
   "cell_type": "code",
   "source": [
    "# 隐式的索引，按位置和位置切片索引\n",
    "print(s.iloc[0])  # 位置索引，也支持切片"
   ],
   "id": "3e4ef150f4154090",
   "outputs": [
    {
     "name": "stdout",
     "output_type": "stream",
     "text": [
      "1\n"
     ]
    }
   ],
   "execution_count": 39
  },
  {
   "metadata": {
    "ExecuteTime": {
     "end_time": "2025-08-06T14:55:07.761400Z",
     "start_time": "2025-08-06T14:55:07.742480Z"
    }
   },
   "cell_type": "code",
   "source": [
    "# at 和 iat\n",
    "print(s.at['b'])  # 按标签索引单个值\n",
    "print(s.iat[0])  # 按位置索引单个值"
   ],
   "id": "c9ce7eaf88949956",
   "outputs": [
    {
     "name": "stdout",
     "output_type": "stream",
     "text": [
      "2\n",
      "1\n"
     ]
    }
   ],
   "execution_count": 40
  }
 ],
 "metadata": {
  "kernelspec": {
   "display_name": "Python 3",
   "language": "python",
   "name": "python3"
  },
  "language_info": {
   "codemirror_mode": {
    "name": "ipython",
    "version": 2
   },
   "file_extension": ".py",
   "mimetype": "text/x-python",
   "name": "python",
   "nbconvert_exporter": "python",
   "pygments_lexer": "ipython2",
   "version": "2.7.6"
  }
 },
 "nbformat": 4,
 "nbformat_minor": 5
}
