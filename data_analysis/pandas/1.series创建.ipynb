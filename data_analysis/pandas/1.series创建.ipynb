{
 "cells": [
  {
   "metadata": {},
   "cell_type": "markdown",
   "source": "# Series in Pandas",
   "id": "fa98ac6c504c6a77"
  },
  {
   "metadata": {
    "ExecuteTime": {
     "end_time": "2025-08-06T14:35:21.459550Z",
     "start_time": "2025-08-06T14:35:21.455088Z"
    }
   },
   "cell_type": "code",
   "source": [
    "import pandas as pd\n",
    "\n",
    "# series 的创建\n",
    "s = pd.Series([1, 3, 5, 7, 9])\n",
    "print(s)"
   ],
   "id": "initial_id",
   "outputs": [
    {
     "name": "stdout",
     "output_type": "stream",
     "text": [
      "0    1\n",
      "1    3\n",
      "2    5\n",
      "3    7\n",
      "4    9\n",
      "dtype: int64\n",
      "a    1\n",
      "b    3\n",
      "c    5\n",
      "d    7\n",
      "e    9\n",
      "dtype: int64\n"
     ]
    }
   ],
   "execution_count": 5
  },
  {
   "metadata": {
    "ExecuteTime": {
     "end_time": "2025-08-06T14:35:32.785425Z",
     "start_time": "2025-08-06T14:35:32.781647Z"
    }
   },
   "cell_type": "code",
   "source": [
    "# 自定义索引\n",
    "s2 = pd.Series([1, 3, 5, 7, 9], index=['a', 'b', 'c', 'd', 'e'])\n",
    "print(s2)"
   ],
   "id": "4ead32fcd637f113",
   "outputs": [
    {
     "name": "stdout",
     "output_type": "stream",
     "text": [
      "a    1\n",
      "b    3\n",
      "c    5\n",
      "d    7\n",
      "e    9\n",
      "dtype: int64\n"
     ]
    }
   ],
   "execution_count": 6
  },
  {
   "metadata": {
    "ExecuteTime": {
     "end_time": "2025-08-06T14:38:47.585459Z",
     "start_time": "2025-08-06T14:38:47.578712Z"
    }
   },
   "cell_type": "code",
   "source": [
    "# 通过字典创建 Series\n",
    "data = {'a': 1, 'b': 2, 'c': 3}\n",
    "s3 = pd.Series(data)\n",
    "print(s3)\n",
    "\n",
    "# 通过指定索引创建 Series\n",
    "s3New = pd.Series(s3, index=['b', 'c'])\n",
    "print(s3New)"
   ],
   "id": "b9f64d0df2f6612b",
   "outputs": [
    {
     "name": "stdout",
     "output_type": "stream",
     "text": [
      "a    1\n",
      "b    2\n",
      "c    3\n",
      "dtype: int64\n",
      "b    2\n",
      "c    3\n",
      "dtype: int64\n"
     ]
    }
   ],
   "execution_count": 11
  },
  {
   "metadata": {
    "ExecuteTime": {
     "end_time": "2025-08-06T14:36:31.146772Z",
     "start_time": "2025-08-06T14:36:31.141891Z"
    }
   },
   "cell_type": "code",
   "source": [
    "# 定义 name 属性\n",
    "s4 = pd.Series([1, 2, 3], index=['a', 'b', 'c'], name='MySeries')\n",
    "print(s4)"
   ],
   "id": "941acc65b24d6fd3",
   "outputs": [
    {
     "data": {
      "text/plain": [
       "a    1\n",
       "b    2\n",
       "c    3\n",
       "Name: MySeries, dtype: int64"
      ]
     },
     "execution_count": 9,
     "metadata": {},
     "output_type": "execute_result"
    }
   ],
   "execution_count": 9
  }
 ],
 "metadata": {
  "kernelspec": {
   "display_name": "Python 3",
   "language": "python",
   "name": "python3"
  },
  "language_info": {
   "codemirror_mode": {
    "name": "ipython",
    "version": 2
   },
   "file_extension": ".py",
   "mimetype": "text/x-python",
   "name": "python",
   "nbconvert_exporter": "python",
   "pygments_lexer": "ipython2",
   "version": "2.7.6"
  }
 },
 "nbformat": 4,
 "nbformat_minor": 5
}
