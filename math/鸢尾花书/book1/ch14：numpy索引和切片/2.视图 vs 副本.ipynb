{
 "cells": [
  {
   "metadata": {},
   "cell_type": "markdown",
   "source": [
    "# 视图 vs 副本\n",
    "\n",
    "在 NumPy 中，有两种不同的方式来创建新的数组对象——视图 (view)、副本 (copy)。\n",
    "\n",
    "视图是对原始数组的引用，它们共享相同的数据缓冲区。对视图的修改会影响原始数组，反之亦然。\n",
    "\n",
    "副本是原始数组数据的独立副本，对副本的修改不会影响原始数组。\n",
    "\n",
    "当对数组进行切片或使用\n",
    "numpy.copy() 方法时，将生成一个副本。副本的创建可以使用 numpy.copy() 方法或者\n",
    "numpy.array() 函数的参数 copy = True 来实现。"
   ],
   "id": "5a45d2d28a1b4f80"
  },
  {
   "metadata": {
    "ExecuteTime": {
     "end_time": "2025-08-09T16:10:56.033708Z",
     "start_time": "2025-08-09T16:10:56.029168Z"
    }
   },
   "cell_type": "code",
   "source": [
    "import numpy as np\n",
    "\n",
    "# 创建一个一维数组\n",
    "a = np.array([1, 2, 3, 4, 5])\n",
    "\n",
    "# 创建一个切片视图\n",
    "s = a[1:3] # [2, 3]\n",
    "\n",
    "# 修改视图中的数据\n",
    "s[0] = 1000 # 将视图中的第一个元素修改为 1000，[1000, 3]\n",
    "\n",
    "# 查看原始数组\n",
    "print(a) # 输出：[1 1000 3 4 5]\n",
    "\n",
    "# 创建一个整数数组索引副本\n",
    "c = a[[1, 3]].copy() # [1000, 4]\n",
    "\n",
    "# 修改副本中的数据\n",
    "c[0] = 888 # 将副本中的第一个元素修改为 888，[888, 4]\n",
    "\n",
    "# 查看原始数组\n",
    "print(a) # 输出：[1 1000 3 4 5]\n",
    "print(c) # 输出：[888  4]"
   ],
   "id": "initial_id",
   "outputs": [
    {
     "name": "stdout",
     "output_type": "stream",
     "text": [
      "[   1 1000    3    4    5]\n",
      "[1000    4]\n",
      "[   1 1000    3    4    5]\n",
      "[888   4]\n"
     ]
    }
   ],
   "execution_count": 4
  }
 ],
 "metadata": {
  "kernelspec": {
   "display_name": "Python 3",
   "language": "python",
   "name": "python3"
  },
  "language_info": {
   "codemirror_mode": {
    "name": "ipython",
    "version": 2
   },
   "file_extension": ".py",
   "mimetype": "text/x-python",
   "name": "python",
   "nbconvert_exporter": "python",
   "pygments_lexer": "ipython2",
   "version": "2.7.6"
  }
 },
 "nbformat": 4,
 "nbformat_minor": 5
}
