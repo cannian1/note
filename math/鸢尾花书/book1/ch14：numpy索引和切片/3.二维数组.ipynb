{
 "cells": [
  {
   "cell_type": "code",
   "id": "initial_id",
   "metadata": {
    "collapsed": true,
    "ExecuteTime": {
     "end_time": "2025-08-18T14:32:30.358417Z",
     "start_time": "2025-08-18T14:32:30.354091Z"
    }
   },
   "source": "import numpy as np",
   "outputs": [],
   "execution_count": 145
  },
  {
   "metadata": {
    "ExecuteTime": {
     "end_time": "2025-08-18T14:32:30.463776Z",
     "start_time": "2025-08-18T14:32:30.460777Z"
    }
   },
   "cell_type": "code",
   "source": [
    "A_2D = np.array([[-7, -6, -5, -4, -3],\n",
    "                 [-2, -1, 0, 1, 2],\n",
    "                 [3, 4, 5, 6, 7]])"
   ],
   "id": "e5a80aa70a5c558b",
   "outputs": [],
   "execution_count": 146
  },
  {
   "metadata": {},
   "cell_type": "markdown",
   "source": "### 索引",
   "id": "5787dd1be617e8ce"
  },
  {
   "metadata": {
    "ExecuteTime": {
     "end_time": "2025-08-18T14:32:30.498787Z",
     "start_time": "2025-08-18T14:32:30.494997Z"
    }
   },
   "cell_type": "code",
   "source": "A_2D[0, 0]  # 第一行第一列元素",
   "id": "b7975700ef9e95b7",
   "outputs": [
    {
     "data": {
      "text/plain": [
       "np.int64(-7)"
      ]
     },
     "execution_count": 147,
     "metadata": {},
     "output_type": "execute_result"
    }
   ],
   "execution_count": 147
  },
  {
   "metadata": {
    "ExecuteTime": {
     "end_time": "2025-08-18T14:32:30.521030Z",
     "start_time": "2025-08-18T14:32:30.517180Z"
    }
   },
   "cell_type": "code",
   "source": "type(A_2D[0, 0])  # numpy.int64",
   "id": "f2ffd5ceca301992",
   "outputs": [
    {
     "data": {
      "text/plain": [
       "numpy.int64"
      ]
     },
     "execution_count": 148,
     "metadata": {},
     "output_type": "execute_result"
    }
   ],
   "execution_count": 148
  },
  {
   "metadata": {
    "ExecuteTime": {
     "end_time": "2025-08-18T14:32:30.532726Z",
     "start_time": "2025-08-18T14:32:30.529529Z"
    }
   },
   "cell_type": "code",
   "source": "type(A_2D[[0], [0]])  # numpy.ndarray",
   "id": "b020a54c833cd59b",
   "outputs": [
    {
     "data": {
      "text/plain": [
       "numpy.ndarray"
      ]
     },
     "execution_count": 149,
     "metadata": {},
     "output_type": "execute_result"
    }
   ],
   "execution_count": 149
  },
  {
   "metadata": {
    "ExecuteTime": {
     "end_time": "2025-08-18T14:32:30.542966Z",
     "start_time": "2025-08-18T14:32:30.538967Z"
    }
   },
   "cell_type": "code",
   "source": "A_2D[1, 2]  # 0 第一行第二列元素",
   "id": "1ca911721e5f5c4c",
   "outputs": [
    {
     "data": {
      "text/plain": [
       "np.int64(0)"
      ]
     },
     "execution_count": 150,
     "metadata": {},
     "output_type": "execute_result"
    }
   ],
   "execution_count": 150
  },
  {
   "metadata": {
    "ExecuteTime": {
     "end_time": "2025-08-18T14:32:30.552383Z",
     "start_time": "2025-08-18T14:32:30.549034Z"
    }
   },
   "cell_type": "code",
   "source": "A_2D[[1], [2]]  # array([0]) 第一行第二列元素，注意返回的是一个一维数组",
   "id": "ae7ce07a6277a25",
   "outputs": [
    {
     "data": {
      "text/plain": [
       "array([0])"
      ]
     },
     "execution_count": 151,
     "metadata": {},
     "output_type": "execute_result"
    }
   ],
   "execution_count": 151
  },
  {
   "metadata": {},
   "cell_type": "markdown",
   "source": "### 取出行",
   "id": "838058d081e720f6"
  },
  {
   "metadata": {
    "ExecuteTime": {
     "end_time": "2025-08-18T14:32:30.574449Z",
     "start_time": "2025-08-18T14:32:30.570405Z"
    }
   },
   "cell_type": "code",
   "source": [
    "# 取出第一行，结果为一维向量\n",
    "A_2D[0]  # array([-7, -6, -5, -4, -3])"
   ],
   "id": "8570936563849bb9",
   "outputs": [
    {
     "data": {
      "text/plain": [
       "array([-7, -6, -5, -4, -3])"
      ]
     },
     "execution_count": 152,
     "metadata": {},
     "output_type": "execute_result"
    }
   ],
   "execution_count": 152
  },
  {
   "metadata": {
    "ExecuteTime": {
     "end_time": "2025-08-18T14:32:30.579143Z",
     "start_time": "2025-08-18T14:32:30.574449Z"
    }
   },
   "cell_type": "code",
   "source": "A_2D[0, :]  # array([-7, -6, -5, -4, -3]) 第一行",
   "id": "eb6760b2e6f0dfee",
   "outputs": [
    {
     "data": {
      "text/plain": [
       "array([-7, -6, -5, -4, -3])"
      ]
     },
     "execution_count": 153,
     "metadata": {},
     "output_type": "execute_result"
    }
   ],
   "execution_count": 153
  },
  {
   "metadata": {
    "ExecuteTime": {
     "end_time": "2025-08-18T14:32:30.587649Z",
     "start_time": "2025-08-18T14:32:30.584105Z"
    }
   },
   "cell_type": "code",
   "source": "A_2D[1]  # array([-2, -1,  0,  1,  2]) 第二行",
   "id": "8cec64eef998e159",
   "outputs": [
    {
     "data": {
      "text/plain": [
       "array([-2, -1,  0,  1,  2])"
      ]
     },
     "execution_count": 154,
     "metadata": {},
     "output_type": "execute_result"
    }
   ],
   "execution_count": 154
  },
  {
   "metadata": {
    "ExecuteTime": {
     "end_time": "2025-08-18T14:32:30.592123Z",
     "start_time": "2025-08-18T14:32:30.588654Z"
    }
   },
   "cell_type": "code",
   "source": "A_2D[1, :]  # array([-2, -1,  0,  1,  2]) 第二行",
   "id": "f8f09defa8e2b0b0",
   "outputs": [
    {
     "data": {
      "text/plain": [
       "array([-2, -1,  0,  1,  2])"
      ]
     },
     "execution_count": 155,
     "metadata": {},
     "output_type": "execute_result"
    }
   ],
   "execution_count": 155
  },
  {
   "metadata": {
    "ExecuteTime": {
     "end_time": "2025-08-18T14:32:30.601035Z",
     "start_time": "2025-08-18T14:32:30.597099Z"
    }
   },
   "cell_type": "code",
   "source": [
    "# 取出第一行，结果为二维行向量\n",
    "A_2D[[0], :]  # array([[-7, -6, -5, -4, -3]]) 第一行"
   ],
   "id": "c8686e7a4469ebb9",
   "outputs": [
    {
     "data": {
      "text/plain": [
       "array([[-7, -6, -5, -4, -3]])"
      ]
     },
     "execution_count": 156,
     "metadata": {},
     "output_type": "execute_result"
    }
   ],
   "execution_count": 156
  },
  {
   "metadata": {
    "ExecuteTime": {
     "end_time": "2025-08-18T14:32:30.623630Z",
     "start_time": "2025-08-18T14:32:30.619999Z"
    }
   },
   "cell_type": "code",
   "source": "A_2D[0, np.newaxis]  # array([[-7, -6, -5, -4, -3]]) 第一行",
   "id": "1f7ee46713532bea",
   "outputs": [
    {
     "data": {
      "text/plain": [
       "array([[-7, -6, -5, -4, -3]])"
      ]
     },
     "execution_count": 157,
     "metadata": {},
     "output_type": "execute_result"
    }
   ],
   "execution_count": 157
  },
  {
   "metadata": {
    "ExecuteTime": {
     "end_time": "2025-08-18T14:32:30.635299Z",
     "start_time": "2025-08-18T14:32:30.631396Z"
    }
   },
   "cell_type": "code",
   "source": [
    "A_2D[[0, 2]]\n",
    "# array([[-7, -6, -5, -4, -3],\n",
    "#        [ 3,  4,  5,  6,  7]]) # 第一行和第三行"
   ],
   "id": "9204f6875d3aab57",
   "outputs": [
    {
     "data": {
      "text/plain": [
       "array([[-7, -6, -5, -4, -3],\n",
       "       [ 3,  4,  5,  6,  7]])"
      ]
     },
     "execution_count": 158,
     "metadata": {},
     "output_type": "execute_result"
    }
   ],
   "execution_count": 158
  },
  {
   "metadata": {
    "ExecuteTime": {
     "end_time": "2025-08-18T14:32:30.645797Z",
     "start_time": "2025-08-18T14:32:30.640991Z"
    }
   },
   "cell_type": "code",
   "source": [
    "A_2D[[0, 2], :]\n",
    "# array([[-7, -6, -5, -4, -3],\n",
    "#        [ 3,  4,  5,  6,  7]]) # 第一行和第三行"
   ],
   "id": "964d927a03a5a830",
   "outputs": [
    {
     "data": {
      "text/plain": [
       "array([[-7, -6, -5, -4, -3],\n",
       "       [ 3,  4,  5,  6,  7]])"
      ]
     },
     "execution_count": 159,
     "metadata": {},
     "output_type": "execute_result"
    }
   ],
   "execution_count": 159
  },
  {
   "metadata": {},
   "cell_type": "markdown",
   "source": "### 取出列",
   "id": "2f33613e79e5994d"
  },
  {
   "metadata": {
    "ExecuteTime": {
     "end_time": "2025-08-18T14:32:30.678060Z",
     "start_time": "2025-08-18T14:32:30.674135Z"
    }
   },
   "cell_type": "code",
   "source": "A_2D[:, 0]  # array([-7, -2,  3]) 第一列",
   "id": "42773d0b796baae9",
   "outputs": [
    {
     "data": {
      "text/plain": [
       "array([-7, -2,  3])"
      ]
     },
     "execution_count": 160,
     "metadata": {},
     "output_type": "execute_result"
    }
   ],
   "execution_count": 160
  },
  {
   "metadata": {
    "ExecuteTime": {
     "end_time": "2025-08-18T14:32:30.723462Z",
     "start_time": "2025-08-18T14:32:30.719549Z"
    }
   },
   "cell_type": "code",
   "source": "A_2D[..., 0]  # array([-7, -2,  3]) 第一列",
   "id": "617319363cdc213f",
   "outputs": [
    {
     "data": {
      "text/plain": [
       "array([-7, -2,  3])"
      ]
     },
     "execution_count": 161,
     "metadata": {},
     "output_type": "execute_result"
    }
   ],
   "execution_count": 161
  },
  {
   "metadata": {
    "ExecuteTime": {
     "end_time": "2025-08-18T14:32:30.750866Z",
     "start_time": "2025-08-18T14:32:30.745856Z"
    }
   },
   "cell_type": "code",
   "source": [
    "A_2D[:, [0]]\n",
    "# array([[-7],\n",
    "#        [-2],\n",
    "#        [ 3]]) # 第一列，结果为二维列向量"
   ],
   "id": "d9a071a989fabc0a",
   "outputs": [
    {
     "data": {
      "text/plain": [
       "array([[-7],\n",
       "       [-2],\n",
       "       [ 3]])"
      ]
     },
     "execution_count": 162,
     "metadata": {},
     "output_type": "execute_result"
    }
   ],
   "execution_count": 162
  },
  {
   "metadata": {
    "ExecuteTime": {
     "end_time": "2025-08-18T14:32:30.763672Z",
     "start_time": "2025-08-18T14:32:30.759564Z"
    }
   },
   "cell_type": "code",
   "source": "A_2D[np.newaxis, :, 0]  # array([[-7, -2,  3]]) 第一列，结果为二维行向量",
   "id": "88941190c3eac291",
   "outputs": [
    {
     "data": {
      "text/plain": [
       "array([[-7, -2,  3]])"
      ]
     },
     "execution_count": 163,
     "metadata": {},
     "output_type": "execute_result"
    }
   ],
   "execution_count": 163
  },
  {
   "metadata": {
    "ExecuteTime": {
     "end_time": "2025-08-18T14:32:30.774292Z",
     "start_time": "2025-08-18T14:32:30.770312Z"
    }
   },
   "cell_type": "code",
   "source": "A_2D[:, 1]  # array([-6, -1,  4]) 第二列",
   "id": "b558d33e2a5d22de",
   "outputs": [
    {
     "data": {
      "text/plain": [
       "array([-6, -1,  4])"
      ]
     },
     "execution_count": 164,
     "metadata": {},
     "output_type": "execute_result"
    }
   ],
   "execution_count": 164
  },
  {
   "metadata": {
    "ExecuteTime": {
     "end_time": "2025-08-18T14:32:30.785684Z",
     "start_time": "2025-08-18T14:32:30.781379Z"
    }
   },
   "cell_type": "code",
   "source": [
    "A_2D[:, [0, 2, 4]]\n",
    "# array([[-7, -5, -3],\n",
    "#        [-2,  0,  2],\n",
    "#        [ 3,  5,  7]]) # 第一列、第三列和第五列"
   ],
   "id": "e324c4e46da19f72",
   "outputs": [
    {
     "data": {
      "text/plain": [
       "array([[-7, -5, -3],\n",
       "       [-2,  0,  2],\n",
       "       [ 3,  5,  7]])"
      ]
     },
     "execution_count": 165,
     "metadata": {},
     "output_type": "execute_result"
    }
   ],
   "execution_count": 165
  },
  {
   "metadata": {
    "ExecuteTime": {
     "end_time": "2025-08-18T14:32:30.817102Z",
     "start_time": "2025-08-18T14:32:30.812469Z"
    }
   },
   "cell_type": "code",
   "source": [
    "A_2D[:, 0::2]\n",
    "# array([[-7, -5, -3],\n",
    "#        [-2,  0,  2],\n",
    "#        [ 3,  5,  7]]) # 第一列、第三列和第五列"
   ],
   "id": "1d15019561f8fd15",
   "outputs": [
    {
     "data": {
      "text/plain": [
       "array([[-7, -5, -3],\n",
       "       [-2,  0,  2],\n",
       "       [ 3,  5,  7]])"
      ]
     },
     "execution_count": 166,
     "metadata": {},
     "output_type": "execute_result"
    }
   ],
   "execution_count": 166
  },
  {
   "metadata": {},
   "cell_type": "markdown",
   "source": "### 取出特定行列组合",
   "id": "5b5b899fda1d2678"
  },
  {
   "metadata": {
    "ExecuteTime": {
     "end_time": "2025-08-18T14:32:30.827030Z",
     "start_time": "2025-08-18T14:32:30.823269Z"
    }
   },
   "cell_type": "code",
   "source": "A_2D[1, 2::]  # array([0, 1, 2]) # 第二行从第三列开始到最后一列",
   "id": "afd5254e06d3b655",
   "outputs": [
    {
     "data": {
      "text/plain": [
       "array([0, 1, 2])"
      ]
     },
     "execution_count": 167,
     "metadata": {},
     "output_type": "execute_result"
    }
   ],
   "execution_count": 167
  },
  {
   "metadata": {
    "ExecuteTime": {
     "end_time": "2025-08-18T14:32:30.840964Z",
     "start_time": "2025-08-18T14:32:30.837480Z"
    }
   },
   "cell_type": "code",
   "source": "A_2D[np.newaxis, 1,2::] # array([[0, 1, 2]]) # 第二行从第三列开始到最后一列，结果为二维行向量",
   "id": "bc4b3974685b842a",
   "outputs": [
    {
     "data": {
      "text/plain": [
       "array([[0, 1, 2]])"
      ]
     },
     "execution_count": 168,
     "metadata": {},
     "output_type": "execute_result"
    }
   ],
   "execution_count": 168
  },
  {
   "metadata": {
    "ExecuteTime": {
     "end_time": "2025-08-18T14:32:30.847028Z",
     "start_time": "2025-08-18T14:32:30.843375Z"
    }
   },
   "cell_type": "code",
   "source": [
    "A_2D[1,2::, np.newaxis]\n",
    "# array([[0],\n",
    "#        [1],\n",
    "#        [2]]) # 第二行从第三列开始到最后一列，结果为二维列向量"
   ],
   "id": "dc0fd37a68962fe2",
   "outputs": [
    {
     "data": {
      "text/plain": [
       "array([[0],\n",
       "       [1],\n",
       "       [2]])"
      ]
     },
     "execution_count": 169,
     "metadata": {},
     "output_type": "execute_result"
    }
   ],
   "execution_count": 169
  },
  {
   "metadata": {
    "ExecuteTime": {
     "end_time": "2025-08-18T14:32:30.876829Z",
     "start_time": "2025-08-18T14:32:30.872109Z"
    }
   },
   "cell_type": "code",
   "source": [
    "A_2D[1::,[0,2,4]] \n",
    "# array([[-2,  0,  2],\n",
    "#        [ 3,  5,  7]]) # 第二行和第三行的第一列、第三列和第五列"
   ],
   "id": "f148c02c7a8ba6ea",
   "outputs": [
    {
     "data": {
      "text/plain": [
       "array([[-2,  0,  2],\n",
       "       [ 3,  5,  7]])"
      ]
     },
     "execution_count": 170,
     "metadata": {},
     "output_type": "execute_result"
    }
   ],
   "execution_count": 170
  },
  {
   "metadata": {
    "ExecuteTime": {
     "end_time": "2025-08-18T14:32:30.886989Z",
     "start_time": "2025-08-18T14:32:30.883158Z"
    }
   },
   "cell_type": "code",
   "source": [
    "A_2D[1::,0::2] \n",
    "# array([[-2,  0,  2],\n",
    "#        [ 3,  5,  7]]) # 第二行和第三行的第一列、第三列和第五列"
   ],
   "id": "d28424e45e5afa80",
   "outputs": [
    {
     "data": {
      "text/plain": [
       "array([[-2,  0,  2],\n",
       "       [ 3,  5,  7]])"
      ]
     },
     "execution_count": 171,
     "metadata": {},
     "output_type": "execute_result"
    }
   ],
   "execution_count": 171
  },
  {
   "metadata": {
    "ExecuteTime": {
     "end_time": "2025-08-18T14:32:30.892804Z",
     "start_time": "2025-08-18T14:32:30.886989Z"
    }
   },
   "cell_type": "code",
   "source": [
    "A_2D[::2,:-1:2]\n",
    "# array([[-7, -5],\n",
    "#        [ 3,  5]]) # 第一行和第三行的第一列和第三列"
   ],
   "id": "416fab62e0738a06",
   "outputs": [
    {
     "data": {
      "text/plain": [
       "array([[-7, -5],\n",
       "       [ 3,  5]])"
      ]
     },
     "execution_count": 172,
     "metadata": {},
     "output_type": "execute_result"
    }
   ],
   "execution_count": 172
  },
  {
   "metadata": {},
   "cell_type": "code",
   "outputs": [],
   "execution_count": null,
   "source": [
    "# 二次切片\n",
    "A_2D[:,[0,2]][[0, 2], :]\n",
    "# array([[-7, -5],\n",
    "#        [ 3,  5]]) # 第一列和第三列的第一行和第三行"
   ],
   "id": "8d1114668006e18a"
  },
  {
   "metadata": {},
   "cell_type": "code",
   "outputs": [],
   "execution_count": null,
   "source": [
    "A_2D[[0, 2], :][:,[0,2]]\n",
    "# array([[-7, -5],\n",
    "#        [ 3,  5]]) # 第一行和第三行的第一列和第三列"
   ],
   "id": "5d45b26d8f79a56b"
  },
  {
   "metadata": {},
   "cell_type": "markdown",
   "source": "#### 使用np.ix_()",
   "id": "f78ba74fed6d4677"
  },
  {
   "metadata": {},
   "cell_type": "code",
   "outputs": [],
   "execution_count": null,
   "source": [
    "# np.ix_()函数将多个一维索引数组转换为一个用于多维数组索引的元组。这个元组可以用于同时对多个维度进行索引\n",
    "A_2D[np.ix_([0, 2], [0, 2])]\n",
    "# array([[-7, -5],\n",
    "#        [ 3,  5]]) # 第一行和第三行的第一列和第三列"
   ],
   "id": "65643dd186b3139f"
  }
 ],
 "metadata": {
  "kernelspec": {
   "display_name": "Python 3",
   "language": "python",
   "name": "python3"
  },
  "language_info": {
   "codemirror_mode": {
    "name": "ipython",
    "version": 2
   },
   "file_extension": ".py",
   "mimetype": "text/x-python",
   "name": "python",
   "nbconvert_exporter": "python",
   "pygments_lexer": "ipython2",
   "version": "2.7.6"
  }
 },
 "nbformat": 4,
 "nbformat_minor": 5
}
