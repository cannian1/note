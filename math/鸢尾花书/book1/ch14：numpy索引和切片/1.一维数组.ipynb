{
 "cells": [
  {
   "cell_type": "code",
   "id": "initial_id",
   "metadata": {
    "collapsed": true,
    "ExecuteTime": {
     "end_time": "2025-08-09T16:02:22.126571Z",
     "start_time": "2025-08-09T16:02:22.115978Z"
    }
   },
   "source": [
    "# 导入包\n",
    "import numpy as np"
   ],
   "outputs": [],
   "execution_count": 113
  },
  {
   "metadata": {
    "ExecuteTime": {
     "end_time": "2025-08-09T16:02:22.261591Z",
     "start_time": "2025-08-09T16:02:22.256032Z"
    }
   },
   "cell_type": "code",
   "source": [
    "# 创建一维数组 [-5, 5]\n",
    "a_1D_array = np.arange(-5, 5 + 1)\n",
    "a_1D_array  # 查看数组内容"
   ],
   "id": "9879088551ac530b",
   "outputs": [
    {
     "data": {
      "text/plain": [
       "array([-5, -4, -3, -2, -1,  0,  1,  2,  3,  4,  5])"
      ]
     },
     "execution_count": 114,
     "metadata": {},
     "output_type": "execute_result"
    }
   ],
   "execution_count": 114
  },
  {
   "metadata": {
    "ExecuteTime": {
     "end_time": "2025-08-09T16:02:22.277969Z",
     "start_time": "2025-08-09T16:02:22.270641Z"
    }
   },
   "cell_type": "code",
   "source": "a_1D_array.shape  # 查看数组的形状",
   "id": "250936d49893e215",
   "outputs": [
    {
     "data": {
      "text/plain": [
       "(11,)"
      ]
     },
     "execution_count": 115,
     "metadata": {},
     "output_type": "execute_result"
    }
   ],
   "execution_count": 115
  },
  {
   "metadata": {
    "ExecuteTime": {
     "end_time": "2025-08-09T16:02:22.318914Z",
     "start_time": "2025-08-09T16:02:22.315412Z"
    }
   },
   "cell_type": "code",
   "source": "a_1D_array.ndim # 查看数组的维度",
   "id": "c5d07d5157a072b5",
   "outputs": [
    {
     "data": {
      "text/plain": [
       "1"
      ]
     },
     "execution_count": 116,
     "metadata": {},
     "output_type": "execute_result"
    }
   ],
   "execution_count": 116
  },
  {
   "metadata": {
    "ExecuteTime": {
     "end_time": "2025-08-09T16:02:22.338813Z",
     "start_time": "2025-08-09T16:02:22.332563Z"
    }
   },
   "cell_type": "code",
   "source": "len(a_1D_array)  # 查看数组的长度",
   "id": "bab9c71926f9871f",
   "outputs": [
    {
     "data": {
      "text/plain": [
       "11"
      ]
     },
     "execution_count": 117,
     "metadata": {},
     "output_type": "execute_result"
    }
   ],
   "execution_count": 117
  },
  {
   "metadata": {},
   "cell_type": "markdown",
   "source": "### 索引 ",
   "id": "b33ce1955d33a275"
  },
  {
   "metadata": {
    "ExecuteTime": {
     "end_time": "2025-08-09T16:02:22.349251Z",
     "start_time": "2025-08-09T16:02:22.338813Z"
    }
   },
   "cell_type": "code",
   "source": [
    "# 索引数组的第一个元素\n",
    "a_1D_array[0] "
   ],
   "id": "b439465262052f14",
   "outputs": [
    {
     "data": {
      "text/plain": [
       "np.int64(-5)"
      ]
     },
     "execution_count": 118,
     "metadata": {},
     "output_type": "execute_result"
    }
   ],
   "execution_count": 118
  },
  {
   "metadata": {
    "ExecuteTime": {
     "end_time": "2025-08-09T16:02:22.357136Z",
     "start_time": "2025-08-09T16:02:22.353672Z"
    }
   },
   "cell_type": "code",
   "source": "a_1D_array[-11]  # 索引数组的第一个元素，索引 -len(a_1D_array)",
   "id": "bc4d8caa1716b450",
   "outputs": [
    {
     "data": {
      "text/plain": [
       "np.int64(-5)"
      ]
     },
     "execution_count": 119,
     "metadata": {},
     "output_type": "execute_result"
    }
   ],
   "execution_count": 119
  },
  {
   "metadata": {
    "ExecuteTime": {
     "end_time": "2025-08-09T16:02:22.367009Z",
     "start_time": "2025-08-09T16:02:22.363560Z"
    }
   },
   "cell_type": "code",
   "source": [
    "# 索引数组的最后一个元素，索引为 -1 或 len(a_1D_array) - 1\n",
    "a_1D_array[-1]"
   ],
   "id": "7ff23a727463691b",
   "outputs": [
    {
     "data": {
      "text/plain": [
       "np.int64(5)"
      ]
     },
     "execution_count": 120,
     "metadata": {},
     "output_type": "execute_result"
    }
   ],
   "execution_count": 120
  },
  {
   "metadata": {},
   "cell_type": "markdown",
   "source": [
    "### 行向量、列向量\n",
    "\n",
    "行向量、列向量都被视作特殊的二维数组。也就是说，行向量是一\n",
    "行多列矩阵，而列向量是多行一列矩阵。\n",
    "\n",
    "`numpy.newaxis` 是一个特殊的索引，用于增加数组的维度。它的作用是在数组\n",
    "的某个位置添加一个新的轴，从而改变数组的维度"
   ],
   "id": "783a32d5e10e2b6b"
  },
  {
   "metadata": {
    "ExecuteTime": {
     "end_time": "2025-08-09T16:02:22.390532Z",
     "start_time": "2025-08-09T16:02:22.385558Z"
    }
   },
   "cell_type": "code",
   "source": [
    "# 转为列向量\n",
    "a_1D_array[:, np.newaxis]"
   ],
   "id": "2de341a584b17348",
   "outputs": [
    {
     "data": {
      "text/plain": [
       "array([[-5],\n",
       "       [-4],\n",
       "       [-3],\n",
       "       [-2],\n",
       "       [-1],\n",
       "       [ 0],\n",
       "       [ 1],\n",
       "       [ 2],\n",
       "       [ 3],\n",
       "       [ 4],\n",
       "       [ 5]])"
      ]
     },
     "execution_count": 121,
     "metadata": {},
     "output_type": "execute_result"
    }
   ],
   "execution_count": 121
  },
  {
   "metadata": {
    "ExecuteTime": {
     "end_time": "2025-08-09T16:02:22.402533Z",
     "start_time": "2025-08-09T16:02:22.397963Z"
    }
   },
   "cell_type": "code",
   "source": [
    "# 升维了\n",
    "a_1D_array[:, np.newaxis].ndim"
   ],
   "id": "e05c977c91eb2bb6",
   "outputs": [
    {
     "data": {
      "text/plain": [
       "2"
      ]
     },
     "execution_count": 122,
     "metadata": {},
     "output_type": "execute_result"
    }
   ],
   "execution_count": 122
  },
  {
   "metadata": {
    "ExecuteTime": {
     "end_time": "2025-08-09T16:02:22.415004Z",
     "start_time": "2025-08-09T16:02:22.410762Z"
    }
   },
   "cell_type": "code",
   "source": "a_1D_array[:, None]  # None 和 np.newaxis 是等价的",
   "id": "c1379d38a1a68e33",
   "outputs": [
    {
     "data": {
      "text/plain": [
       "array([[-5],\n",
       "       [-4],\n",
       "       [-3],\n",
       "       [-2],\n",
       "       [-1],\n",
       "       [ 0],\n",
       "       [ 1],\n",
       "       [ 2],\n",
       "       [ 3],\n",
       "       [ 4],\n",
       "       [ 5]])"
      ]
     },
     "execution_count": 123,
     "metadata": {},
     "output_type": "execute_result"
    }
   ],
   "execution_count": 123
  },
  {
   "metadata": {},
   "cell_type": "markdown",
   "source": [
    "numpy.squeeze() 函数用于从数组的形状中删除长度为 1 的维度，并返回一个新的数组，其维度数目更少\n",
    "\n",
    "例如，对于一个形状为 (1, 3, 1, 5) 的四维数组，可以使用 numpy.squeeze(a) 函数将其转换为形状为 (3, 5) 的二维数组，其中长度为 1 的第 0 和第 2 维被删除。\n",
    "\n",
    "如果在调用 numpy.squeeze() 时指定了参数 axis，则只有该轴上长度为 1 的维度会被删除"
   ],
   "id": "7b8a8acaf48dfef8"
  },
  {
   "metadata": {
    "ExecuteTime": {
     "end_time": "2025-08-09T16:02:22.442361Z",
     "start_time": "2025-08-09T16:02:22.429657Z"
    }
   },
   "cell_type": "code",
   "source": "a_1D_array.reshape(-1,1) # 也可以使用 reshape 方法来转换为列向量",
   "id": "1716e284004e786a",
   "outputs": [
    {
     "data": {
      "text/plain": [
       "array([[-5],\n",
       "       [-4],\n",
       "       [-3],\n",
       "       [-2],\n",
       "       [-1],\n",
       "       [ 0],\n",
       "       [ 1],\n",
       "       [ 2],\n",
       "       [ 3],\n",
       "       [ 4],\n",
       "       [ 5]])"
      ]
     },
     "execution_count": 124,
     "metadata": {},
     "output_type": "execute_result"
    }
   ],
   "execution_count": 124
  },
  {
   "metadata": {
    "ExecuteTime": {
     "end_time": "2025-08-09T16:02:22.454533Z",
     "start_time": "2025-08-09T16:02:22.446212Z"
    }
   },
   "cell_type": "code",
   "source": "a_1D_array[:, np.newaxis].squeeze() # squeeze 方法可以去掉维度为1的轴",
   "id": "1467e1ad0432abf9",
   "outputs": [
    {
     "data": {
      "text/plain": [
       "array([-5, -4, -3, -2, -1,  0,  1,  2,  3,  4,  5])"
      ]
     },
     "execution_count": 125,
     "metadata": {},
     "output_type": "execute_result"
    }
   ],
   "execution_count": 125
  },
  {
   "metadata": {},
   "cell_type": "markdown",
   "source": "",
   "id": "58780b53b40539a7"
  },
  {
   "metadata": {
    "ExecuteTime": {
     "end_time": "2025-08-09T16:02:22.460647Z",
     "start_time": "2025-08-09T16:02:22.455831Z"
    }
   },
   "cell_type": "code",
   "source": "a_1D_array[np.newaxis, :]  # 转为行向量",
   "id": "48c35aa53cc05cc2",
   "outputs": [
    {
     "data": {
      "text/plain": [
       "array([[-5, -4, -3, -2, -1,  0,  1,  2,  3,  4,  5]])"
      ]
     },
     "execution_count": 126,
     "metadata": {},
     "output_type": "execute_result"
    }
   ],
   "execution_count": 126
  },
  {
   "metadata": {
    "ExecuteTime": {
     "end_time": "2025-08-09T16:02:22.465488Z",
     "start_time": "2025-08-09T16:02:22.461653Z"
    }
   },
   "cell_type": "code",
   "source": "a_1D_array[None, :]  # None 和 np.newaxis 是等价的",
   "id": "78f41118d95a44dd",
   "outputs": [
    {
     "data": {
      "text/plain": [
       "array([[-5, -4, -3, -2, -1,  0,  1,  2,  3,  4,  5]])"
      ]
     },
     "execution_count": 127,
     "metadata": {},
     "output_type": "execute_result"
    }
   ],
   "execution_count": 127
  },
  {
   "metadata": {
    "ExecuteTime": {
     "end_time": "2025-08-09T16:02:22.472328Z",
     "start_time": "2025-08-09T16:02:22.467496Z"
    }
   },
   "cell_type": "code",
   "source": "a_1D_array.reshape(1,-1) # 也可以使用 reshape 方法来转换为行向量",
   "id": "7e585c1544314323",
   "outputs": [
    {
     "data": {
      "text/plain": [
       "array([[-5, -4, -3, -2, -1,  0,  1,  2,  3,  4,  5]])"
      ]
     },
     "execution_count": 128,
     "metadata": {},
     "output_type": "execute_result"
    }
   ],
   "execution_count": 128
  },
  {
   "metadata": {},
   "cell_type": "markdown",
   "source": "",
   "id": "b7588499ab3e9f30"
  },
  {
   "metadata": {},
   "cell_type": "markdown",
   "source": "### 切片",
   "id": "71c36774445d5a9e"
  },
  {
   "metadata": {},
   "cell_type": "markdown",
   "source": "#### 获取数组中的前五个元素",
   "id": "7e5db027ffef6da6"
  },
  {
   "metadata": {
    "ExecuteTime": {
     "end_time": "2025-08-09T16:02:22.479458Z",
     "start_time": "2025-08-09T16:02:22.472328Z"
    }
   },
   "cell_type": "code",
   "source": [
    "# 切片数组的前5个元素\n",
    "a_1D_array[:5]  # 前5个元素"
   ],
   "id": "fbe9651b7be5ad66",
   "outputs": [
    {
     "data": {
      "text/plain": [
       "array([-5, -4, -3, -2, -1])"
      ]
     },
     "execution_count": 129,
     "metadata": {},
     "output_type": "execute_result"
    }
   ],
   "execution_count": 129
  },
  {
   "metadata": {
    "ExecuteTime": {
     "end_time": "2025-08-09T16:02:22.537082Z",
     "start_time": "2025-08-09T16:02:22.527190Z"
    }
   },
   "cell_type": "code",
   "source": "a_1D_array[0:5] # 前5个元素，和上面等价",
   "id": "7bac33d3c32efedc",
   "outputs": [
    {
     "data": {
      "text/plain": [
       "array([-5, -4, -3, -2, -1])"
      ]
     },
     "execution_count": 130,
     "metadata": {},
     "output_type": "execute_result"
    }
   ],
   "execution_count": 130
  },
  {
   "metadata": {
    "ExecuteTime": {
     "end_time": "2025-08-09T16:02:22.560861Z",
     "start_time": "2025-08-09T16:02:22.555603Z"
    }
   },
   "cell_type": "code",
   "source": "a_1D_array[[0,1,2,3,4]] # 前5个元素，和上面等价",
   "id": "bebce770672616c8",
   "outputs": [
    {
     "data": {
      "text/plain": [
       "array([-5, -4, -3, -2, -1])"
      ]
     },
     "execution_count": 131,
     "metadata": {},
     "output_type": "execute_result"
    }
   ],
   "execution_count": 131
  },
  {
   "metadata": {},
   "cell_type": "markdown",
   "source": "和 Python 的列表切片类似，倒数第 n 个元素的索引为 -n，步长也同样可以使用。",
   "id": "6b8d5974f038fed6"
  },
  {
   "metadata": {},
   "cell_type": "markdown",
   "source": "### 整数索引",
   "id": "c2e587cea9e8f214"
  },
  {
   "metadata": {
    "ExecuteTime": {
     "end_time": "2025-08-09T16:02:22.574969Z",
     "start_time": "2025-08-09T16:02:22.570646Z"
    }
   },
   "cell_type": "code",
   "source": [
    "# 获取，第一、二 三，和最后一个元素\n",
    "a_1D_array[[0, 1, 2, -1]]"
   ],
   "id": "a76da76336b59bab",
   "outputs": [
    {
     "data": {
      "text/plain": [
       "array([-5, -4, -3,  5])"
      ]
     },
     "execution_count": 132,
     "metadata": {},
     "output_type": "execute_result"
    }
   ],
   "execution_count": 132
  },
  {
   "metadata": {
    "ExecuteTime": {
     "end_time": "2025-08-09T16:02:22.586524Z",
     "start_time": "2025-08-09T16:02:22.577536Z"
    }
   },
   "cell_type": "code",
   "source": [
    "a_1D_array[np.r_[0:3, -1]]\n",
    "\n",
    "# numpy.r_ 是一个用于将切片对象转换为一个沿着第一个轴堆叠的 NumPy 数组的函数。\n",
    "# 它可以在数组创建和索引时使用。\n",
    "# 它的作用类似于 numpy.concatenate 和 numpy.vstack，\n",
    "# 但是使用切片对象作为索引来方便快捷地创建数组。"
   ],
   "id": "7057bb9164b23da9",
   "outputs": [
    {
     "data": {
      "text/plain": [
       "array([-5, -4, -3,  5])"
      ]
     },
     "execution_count": 133,
     "metadata": {},
     "output_type": "execute_result"
    }
   ],
   "execution_count": 133
  },
  {
   "metadata": {
    "ExecuteTime": {
     "end_time": "2025-08-09T16:02:22.595380Z",
     "start_time": "2025-08-09T16:02:22.591627Z"
    }
   },
   "cell_type": "code",
   "source": [
    "# 或者采用合并\n",
    "first_three = a_1D_array[:3]   # 获取前三个元素\n",
    "last_one    = a_1D_array[-1:]  # 获取最后一个元素\n",
    "np.concatenate((first_three[:3], last_one[-1:]))"
   ],
   "id": "1c9bbdd74858219b",
   "outputs": [
    {
     "data": {
      "text/plain": [
       "array([-5, -4, -3,  5])"
      ]
     },
     "execution_count": 134,
     "metadata": {},
     "output_type": "execute_result"
    }
   ],
   "execution_count": 134
  },
  {
   "metadata": {},
   "cell_type": "markdown",
   "source": "### 布尔索引",
   "id": "802495af61690320"
  },
  {
   "metadata": {
    "ExecuteTime": {
     "end_time": "2025-08-09T16:02:22.613796Z",
     "start_time": "2025-08-09T16:02:22.609414Z"
    }
   },
   "cell_type": "code",
   "source": [
    "# 大于 1 的元素\n",
    "bool_greater_than_1 = a_1D_array > 1\n",
    "bool_greater_than_1"
   ],
   "id": "fd95675b8227abe",
   "outputs": [
    {
     "data": {
      "text/plain": [
       "array([False, False, False, False, False, False, False,  True,  True,\n",
       "        True,  True])"
      ]
     },
     "execution_count": 135,
     "metadata": {},
     "output_type": "execute_result"
    }
   ],
   "execution_count": 135
  },
  {
   "metadata": {},
   "cell_type": "code",
   "outputs": [],
   "execution_count": null,
   "source": "a_1D_array[bool_greater_than_1]",
   "id": "a056c2086b8dc3f1"
  },
  {
   "metadata": {},
   "cell_type": "code",
   "outputs": [],
   "execution_count": null,
   "source": "a_1D_array[a_1D_array > 1]  # 也可以直接使用布尔表达式作为索引",
   "id": "33540fdf11d10ab8"
  }
 ],
 "metadata": {
  "kernelspec": {
   "display_name": "Python 3",
   "language": "python",
   "name": "python3"
  },
  "language_info": {
   "codemirror_mode": {
    "name": "ipython",
    "version": 2
   },
   "file_extension": ".py",
   "mimetype": "text/x-python",
   "name": "python",
   "nbconvert_exporter": "python",
   "pygments_lexer": "ipython2",
   "version": "2.7.6"
  }
 },
 "nbformat": 4,
 "nbformat_minor": 5
}
