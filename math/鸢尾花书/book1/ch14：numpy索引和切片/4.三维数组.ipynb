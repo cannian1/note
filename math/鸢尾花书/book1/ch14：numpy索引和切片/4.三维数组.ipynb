{
 "cells": [
  {
   "metadata": {},
   "cell_type": "code",
   "outputs": [],
   "execution_count": null,
   "source": "import numpy as np",
   "id": "b591467c7a2b4ff6"
  },
  {
   "metadata": {},
   "cell_type": "code",
   "outputs": [],
   "execution_count": null,
   "source": [
    "A_3D = np.arange(-30, 30).reshape(3, 4, 5)\n",
    "A_3D"
   ],
   "id": "a76e4dc069e51c09"
  },
  {
   "metadata": {},
   "cell_type": "code",
   "outputs": [],
   "execution_count": null,
   "source": "A_3D[1]  # 取第二个二维数组",
   "id": "90392532ac7c8ef2"
  },
  {
   "metadata": {},
   "cell_type": "code",
   "outputs": [],
   "execution_count": null,
   "source": "A_3D[1, 2]  # 取第二个二维数组的第三行",
   "id": "93136a62f29405ef"
  },
  {
   "metadata": {},
   "cell_type": "code",
   "outputs": [],
   "execution_count": null,
   "source": "A_3D[:, 0, :]  # 取所有二维数组的第一行",
   "id": "c98f09dc7d0d9f90"
  },
  {
   "metadata": {},
   "cell_type": "code",
   "outputs": [],
   "execution_count": null,
   "source": "A_3D[:, :, 0]  # 取所有二维数组的第一列",
   "id": "d402109b381bb7ef"
  },
  {
   "metadata": {},
   "cell_type": "code",
   "outputs": [],
   "execution_count": null,
   "source": [
    "# 取出单一元素\n",
    "A_3D[0, 0, 0]"
   ],
   "id": "e203a597c7c38fc2"
  },
  {
   "metadata": {},
   "cell_type": "code",
   "outputs": [],
   "execution_count": null,
   "source": "A_3D[[0], [0], [0]]  # 等价于上面，但是返回的是一个数组",
   "id": "716c18c480a466b1"
  },
  {
   "metadata": {},
   "cell_type": "code",
   "outputs": [],
   "execution_count": null,
   "source": "A_3D[0, -1, :]  # 取第一个二维数组的最后一行",
   "id": "3ec6cc122b5a2c12"
  },
  {
   "metadata": {},
   "cell_type": "code",
   "outputs": [],
   "execution_count": null,
   "source": [
    "# 使用省略号\n",
    "A_3D[1, ...]  # 等价于 A_3D[1,:,:]"
   ],
   "id": "1d935e23319864c9"
  },
  {
   "metadata": {},
   "cell_type": "code",
   "outputs": [],
   "execution_count": null,
   "source": "A_3D[..., 1]  # 等价于 A_3D[:,:,1]",
   "id": "b95c386dbe072c6c"
  },
  {
   "metadata": {},
   "cell_type": "code",
   "outputs": [],
   "execution_count": null,
   "source": [
    "# 使用take，返回的是视图\n",
    "np.take(A_3D, [0, 2], axis=1)  # 取第一个和第三个二维数组"
   ],
   "id": "1506e398d236d823"
  }
 ],
 "metadata": {
  "kernelspec": {
   "display_name": "Python 3",
   "language": "python",
   "name": "python3"
  },
  "language_info": {
   "codemirror_mode": {
    "name": "ipython",
    "version": 2
   },
   "file_extension": ".py",
   "mimetype": "text/x-python",
   "name": "python",
   "nbconvert_exporter": "python",
   "pygments_lexer": "ipython2",
   "version": "2.7.6"
  }
 },
 "nbformat": 4,
 "nbformat_minor": 5
}
