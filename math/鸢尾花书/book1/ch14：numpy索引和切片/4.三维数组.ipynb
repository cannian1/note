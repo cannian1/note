{
 "cells": [
  {
   "cell_type": "code",
   "id": "initial_id",
   "metadata": {
    "collapsed": true,
    "ExecuteTime": {
     "end_time": "2025-08-18T15:18:21.342609Z",
     "start_time": "2025-08-18T15:18:21.339086Z"
    }
   },
   "source": "import numpy as np",
   "outputs": [],
   "execution_count": 16
  },
  {
   "metadata": {
    "ExecuteTime": {
     "end_time": "2025-08-18T15:18:21.348390Z",
     "start_time": "2025-08-18T15:18:21.344628Z"
    }
   },
   "cell_type": "code",
   "source": [
    "A_3D = np.arange(-30, 30).reshape(3,4,5)\n",
    "A_3D"
   ],
   "id": "ace5f3441310f8d3",
   "outputs": [
    {
     "data": {
      "text/plain": [
       "array([[[-30, -29, -28, -27, -26],\n",
       "        [-25, -24, -23, -22, -21],\n",
       "        [-20, -19, -18, -17, -16],\n",
       "        [-15, -14, -13, -12, -11]],\n",
       "\n",
       "       [[-10,  -9,  -8,  -7,  -6],\n",
       "        [ -5,  -4,  -3,  -2,  -1],\n",
       "        [  0,   1,   2,   3,   4],\n",
       "        [  5,   6,   7,   8,   9]],\n",
       "\n",
       "       [[ 10,  11,  12,  13,  14],\n",
       "        [ 15,  16,  17,  18,  19],\n",
       "        [ 20,  21,  22,  23,  24],\n",
       "        [ 25,  26,  27,  28,  29]]])"
      ]
     },
     "execution_count": 17,
     "metadata": {},
     "output_type": "execute_result"
    }
   ],
   "execution_count": 17
  },
  {
   "metadata": {
    "ExecuteTime": {
     "end_time": "2025-08-18T15:18:21.353396Z",
     "start_time": "2025-08-18T15:18:21.349398Z"
    }
   },
   "cell_type": "code",
   "source": "A_3D[1] # 取第二个二维数组",
   "id": "a194d9dd420d4a61",
   "outputs": [
    {
     "data": {
      "text/plain": [
       "array([[-10,  -9,  -8,  -7,  -6],\n",
       "       [ -5,  -4,  -3,  -2,  -1],\n",
       "       [  0,   1,   2,   3,   4],\n",
       "       [  5,   6,   7,   8,   9]])"
      ]
     },
     "execution_count": 18,
     "metadata": {},
     "output_type": "execute_result"
    }
   ],
   "execution_count": 18
  },
  {
   "metadata": {
    "ExecuteTime": {
     "end_time": "2025-08-18T15:18:21.357863Z",
     "start_time": "2025-08-18T15:18:21.353396Z"
    }
   },
   "cell_type": "code",
   "source": "A_3D[1, 2] # 取第二个二维数组的第三行",
   "id": "ef9ee21ad2e5a9d4",
   "outputs": [
    {
     "data": {
      "text/plain": [
       "array([0, 1, 2, 3, 4])"
      ]
     },
     "execution_count": 19,
     "metadata": {},
     "output_type": "execute_result"
    }
   ],
   "execution_count": 19
  },
  {
   "metadata": {
    "ExecuteTime": {
     "end_time": "2025-08-18T15:18:21.363182Z",
     "start_time": "2025-08-18T15:18:21.358367Z"
    }
   },
   "cell_type": "code",
   "source": "A_3D[:,0,:] # 取所有二维数组的第一行",
   "id": "2c0f9ac9026d22ab",
   "outputs": [
    {
     "data": {
      "text/plain": [
       "array([[-30, -29, -28, -27, -26],\n",
       "       [-10,  -9,  -8,  -7,  -6],\n",
       "       [ 10,  11,  12,  13,  14]])"
      ]
     },
     "execution_count": 20,
     "metadata": {},
     "output_type": "execute_result"
    }
   ],
   "execution_count": 20
  },
  {
   "metadata": {
    "ExecuteTime": {
     "end_time": "2025-08-18T15:18:21.368402Z",
     "start_time": "2025-08-18T15:18:21.364405Z"
    }
   },
   "cell_type": "code",
   "source": "A_3D[:,:,0] # 取所有二维数组的第一列",
   "id": "aebf8d672ae7b61b",
   "outputs": [
    {
     "data": {
      "text/plain": [
       "array([[-30, -25, -20, -15],\n",
       "       [-10,  -5,   0,   5],\n",
       "       [ 10,  15,  20,  25]])"
      ]
     },
     "execution_count": 21,
     "metadata": {},
     "output_type": "execute_result"
    }
   ],
   "execution_count": 21
  },
  {
   "metadata": {
    "ExecuteTime": {
     "end_time": "2025-08-18T15:18:21.372570Z",
     "start_time": "2025-08-18T15:18:21.368908Z"
    }
   },
   "cell_type": "code",
   "source": [
    "# 取出单一元素\n",
    "A_3D[0, 0, 0]"
   ],
   "id": "23e85e0ba5580014",
   "outputs": [
    {
     "data": {
      "text/plain": [
       "np.int64(-30)"
      ]
     },
     "execution_count": 22,
     "metadata": {},
     "output_type": "execute_result"
    }
   ],
   "execution_count": 22
  },
  {
   "metadata": {
    "ExecuteTime": {
     "end_time": "2025-08-18T15:18:21.385614Z",
     "start_time": "2025-08-18T15:18:21.380615Z"
    }
   },
   "cell_type": "code",
   "source": "A_3D[[0], [0], [0]] # 等价于上面，但是返回的是一个数组",
   "id": "9537eb26f12c96bf",
   "outputs": [
    {
     "data": {
      "text/plain": [
       "array([-30])"
      ]
     },
     "execution_count": 23,
     "metadata": {},
     "output_type": "execute_result"
    }
   ],
   "execution_count": 23
  },
  {
   "metadata": {
    "ExecuteTime": {
     "end_time": "2025-08-18T15:18:21.390115Z",
     "start_time": "2025-08-18T15:18:21.386688Z"
    }
   },
   "cell_type": "code",
   "source": "A_3D[0, -1, :] # 取第一个二维数组的最后一行",
   "id": "ad2ac9eaecc9dc56",
   "outputs": [
    {
     "data": {
      "text/plain": [
       "array([-15, -14, -13, -12, -11])"
      ]
     },
     "execution_count": 24,
     "metadata": {},
     "output_type": "execute_result"
    }
   ],
   "execution_count": 24
  },
  {
   "metadata": {
    "ExecuteTime": {
     "end_time": "2025-08-18T15:18:21.395948Z",
     "start_time": "2025-08-18T15:18:21.391443Z"
    }
   },
   "cell_type": "code",
   "source": [
    "# 使用省略号\n",
    "A_3D[1,...] # 等价于 A_3D[1,:,:]"
   ],
   "id": "69f29f92d86f5fde",
   "outputs": [
    {
     "data": {
      "text/plain": [
       "array([[-10,  -9,  -8,  -7,  -6],\n",
       "       [ -5,  -4,  -3,  -2,  -1],\n",
       "       [  0,   1,   2,   3,   4],\n",
       "       [  5,   6,   7,   8,   9]])"
      ]
     },
     "execution_count": 25,
     "metadata": {},
     "output_type": "execute_result"
    }
   ],
   "execution_count": 25
  },
  {
   "metadata": {
    "ExecuteTime": {
     "end_time": "2025-08-18T15:18:21.400423Z",
     "start_time": "2025-08-18T15:18:21.395948Z"
    }
   },
   "cell_type": "code",
   "source": "A_3D[...,1] # 等价于 A_3D[:,:,1]",
   "id": "b611f6d8c0d1a351",
   "outputs": [
    {
     "data": {
      "text/plain": [
       "array([[-29, -24, -19, -14],\n",
       "       [ -9,  -4,   1,   6],\n",
       "       [ 11,  16,  21,  26]])"
      ]
     },
     "execution_count": 26,
     "metadata": {},
     "output_type": "execute_result"
    }
   ],
   "execution_count": 26
  },
  {
   "metadata": {
    "ExecuteTime": {
     "end_time": "2025-08-18T15:18:21.405498Z",
     "start_time": "2025-08-18T15:18:21.401465Z"
    }
   },
   "cell_type": "code",
   "source": [
    "# 使用take，返回的是视图\n",
    "np.take(A_3D, [0,2], axis=1) # 取第一个和第三个二维数组"
   ],
   "id": "99d0da3a6ad473be",
   "outputs": [
    {
     "data": {
      "text/plain": [
       "array([[[100, -29, -28, -27, -26],\n",
       "        [-25, -24, -23, -22, -21],\n",
       "        [-20, -19, -18, -17, -16],\n",
       "        [-15, -14, -13, -12, -11]],\n",
       "\n",
       "       [[-10,  -9,  -8,  -7,  -6],\n",
       "        [ -5,  -4,  -3,  -2,  -1],\n",
       "        [  0,   1,   2,   3,   4],\n",
       "        [  5,   6,   7,   8,   9]],\n",
       "\n",
       "       [[ 10,  11,  12,  13,  14],\n",
       "        [ 15,  16,  17,  18,  19],\n",
       "        [ 20,  21,  22,  23,  24],\n",
       "        [ 25,  26,  27,  28,  29]]])"
      ]
     },
     "execution_count": 27,
     "metadata": {},
     "output_type": "execute_result"
    }
   ],
   "execution_count": 27
  }
 ],
 "metadata": {
  "kernelspec": {
   "display_name": "Python 3",
   "language": "python",
   "name": "python3"
  },
  "language_info": {
   "codemirror_mode": {
    "name": "ipython",
    "version": 2
   },
   "file_extension": ".py",
   "mimetype": "text/x-python",
   "name": "python",
   "nbconvert_exporter": "python",
   "pygments_lexer": "ipython2",
   "version": "2.7.6"
  }
 },
 "nbformat": 4,
 "nbformat_minor": 5
}
